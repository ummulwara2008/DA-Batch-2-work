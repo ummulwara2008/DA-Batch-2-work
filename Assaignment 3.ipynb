{
 "cells": [
  {
   "cell_type": "markdown",
   "id": "80b88da8-9d72-45fe-abaa-fe072b8786e2",
   "metadata": {},
   "source": [
    "# QUESTION 01: Write program to check a person’s eligibility for a loan based on age, credit score, and income. This time, the eligibility criteria will be:"
   ]
  },
  {
   "cell_type": "code",
   "execution_count": null,
   "id": "c4f1599a-8ca8-4077-aefc-f6bf6a8702b4",
   "metadata": {},
   "outputs": [],
   "source": [
    "# The person must be 18 years or older. The person must have a credit score of 650 or higher. The person must have\n",
    "# an annual income of at least 30000 dollars If the person has a credit score of 700 or higher, they may still be eligible\n",
    "# with an income of 25000 dollars or more."
   ]
  },
  {
   "cell_type": "code",
   "execution_count": 291,
   "id": "69040d3f-3cc7-4726-9c36-0c0982180686",
   "metadata": {},
   "outputs": [
    {
     "name": "stdin",
     "output_type": "stream",
     "text": [
      "Enter your age: 30\n",
      "Enter your credit score: 780\n",
      "Enter your annual income 50000\n"
     ]
    },
    {
     "name": "stdout",
     "output_type": "stream",
     "text": [
      "You are eligible for loan\n"
     ]
    }
   ],
   "source": [
    "# take input\n",
    "def check_loan_eligibility(age,credit_score,annual_income):\n",
    "    if age>=18:\n",
    "        if credit_score>=650:\n",
    "            if credit_score>=700:\n",
    "                if annual_income>=25000:\n",
    "                    print(\"You are eligible for loan\")\n",
    "                else:\n",
    "                    print(\"You are not eligible for loan\")\n",
    "            else:# score is 650-699\n",
    "                    if annual_income>30000:\n",
    "                        print(\"You are eligible for loan\")\n",
    "                    else:\n",
    "                        print(\"You are not eligible for loan\")\n",
    "        else:\n",
    "            print(\"You are not eligible for loan\")\n",
    "    else:\n",
    "        print(\"You are not eligible for loan\")\n",
    "\n",
    "# enter values\n",
    "age=int(input(\"Enter your age:\"))\n",
    "credit_score=int(input(\"Enter your credit score:\"))\n",
    "annual_income=float(input(\"Enter your annual income\"))\n",
    "\n",
    "eligibility=check_loan_eligibility(age,credit_score,annual_income)"
   ]
  },
  {
   "cell_type": "markdown",
   "id": "f6b3b404-8e1e-4610-9cc6-58a68342da24",
   "metadata": {},
   "source": [
    "# QUESTION 02: Write a Python program that checks if a person is an adult (age ≥ 18)."
   ]
  },
  {
   "cell_type": "code",
   "execution_count": null,
   "id": "b323592e-bdbe-4562-a433-3990645dfe0e",
   "metadata": {},
   "outputs": [],
   "source": [
    "# Take the age as input.\n",
    "# If the person is underage (age &lt; 18), show message: &quot;You are underage&quot; and don&#39;t ask for experience.\n",
    "\n",
    "# If the person is an adult, take years of experience as input and print:\n",
    "# \"You have a lot of experience.\" (10+ years)\n",
    "# \"You have moderate experience.\" (5-9 years)\n",
    "# \"You are relatively new.\" (2-4 years)\n",
    "# \"You are just starting out.\" (less than 2 years)"
   ]
  },
  {
   "cell_type": "code",
   "execution_count": 7,
   "id": "1e805ea0-b4fb-41d0-ad09-99eac51b9cbb",
   "metadata": {},
   "outputs": [
    {
     "name": "stdin",
     "output_type": "stream",
     "text": [
      "Enter your age: 78\n",
      "Enter experience 10\n"
     ]
    },
    {
     "name": "stdout",
     "output_type": "stream",
     "text": [
      "You have alot of experience\n"
     ]
    }
   ],
   "source": [
    "# input\n",
    "def check_experience(experience):\n",
    "\n",
    "    \n",
    "    if experience>=10:\n",
    "        print(\"You have alot of experience\")\n",
    "    elif 5<= experience <=9:\n",
    "        print(\"You have moderate experience\")\n",
    "    elif 2<= experience <=4:\n",
    "        print(\"You are relatively new\")\n",
    "    elif experience <2:\n",
    "        print(\"You are just starting out\")\n",
    "    else:\n",
    "        print(\"Invalid input\")\n",
    "\n",
    "age=int(input(\"Enter your age:\"))\n",
    "\n",
    "if age<18:\n",
    "    print(\"Your underage\")\n",
    "else:\n",
    "      # If the person is an adult, ask for years of experience\n",
    "    experience=int(input(\"Enter experience\"))\n",
    "\n",
    "result=check_experience(experience)"
   ]
  },
  {
   "cell_type": "markdown",
   "id": "8414cd10-c807-430e-a3c7-6fea90474b77",
   "metadata": {},
   "source": [
    "# QUESTION 03: Write a program to explore below variables"
   ]
  },
  {
   "cell_type": "code",
   "execution_count": null,
   "id": "4b56d87b-e113-4973-97b9-6bb8c75cc552",
   "metadata": {},
   "outputs": [],
   "source": [
    "# a) Print their memory address (to check if python assigns same address of different variables having same element)"
   ]
  },
  {
   "cell_type": "code",
   "execution_count": 70,
   "id": "440a9a8a-1992-4f76-9975-3184f76f65a5",
   "metadata": {},
   "outputs": [
    {
     "name": "stdout",
     "output_type": "stream",
     "text": [
      "1781664123248\n",
      "1781664123248\n"
     ]
    }
   ],
   "source": [
    "# Input take variables\n",
    "a=\"Programming\"\n",
    "b=\"Programming\"\n",
    "\n",
    "# Print ID\n",
    "print(id(a))\n",
    "print(id(b))"
   ]
  },
  {
   "cell_type": "code",
   "execution_count": null,
   "id": "6d725033-450a-43ef-ad78-a1c0dcf9fad5",
   "metadata": {},
   "outputs": [],
   "source": [
    "# b) Find memory size and append them in a list, use this list to find data type having least memory size\n",
    "# c) Print final name of data type which has lowest memory"
   ]
  },
  {
   "cell_type": "code",
   "execution_count": 120,
   "id": "08a0fc52-42af-4555-abab-4ce6874b4e52",
   "metadata": {},
   "outputs": [
    {
     "name": "stdout",
     "output_type": "stream",
     "text": [
      "Memory Sizes: [104, 88, 72]\n",
      "Minimum Memory Size: 72 bytes\n",
      "Data type with least memory size: d (strings)\n"
     ]
    }
   ],
   "source": [
    "import sys\n",
    "\n",
    "# Input different sizes\n",
    "x=\"bytes\"\n",
    "a=[1,2,3,4,5,6,7,8,9]\n",
    "b=['Karachi','Islambad','Lahore','Quetta','Peshawar']\n",
    "c=[22.4,57.6,49.5,7.6]\n",
    "d=['true','false']\n",
    "\n",
    "memory_size=[]\n",
    "\n",
    "# Append  \n",
    "memory_sizes.append(sys.getsizeof(a))\n",
    "memory_size.append(sys.getsizeof(b))\n",
    "memory_size.append(sys.getsizeof(c))\n",
    "memory_size.append(sys.getsizeof(d))\n",
    "\n",
    "# Find memory size\n",
    "min_size = min(memory_size)\n",
    "min_index = memory_sizes.index(min_size)\n",
    "\n",
    "# Output\n",
    "print(f\"Memory Sizes: {memory_size}\")\n",
    "print(f\"Minimum Memory Size: {min_size} bytes\")\n",
    "data_types = ['a (integers)', 'b (strings)', 'c (floats)', 'd (strings)']\n",
    "print(f\"Data type with least memory size: {data_types[min_index]}\")\n",
    "\n"
   ]
  },
  {
   "cell_type": "code",
   "execution_count": null,
   "id": "d16d2056-967c-48b4-b098-f5408e1bbf3b",
   "metadata": {},
   "outputs": [],
   "source": [
    "# Result will help a programmer to decide which variable is storing less memory and variable locations"
   ]
  },
  {
   "cell_type": "markdown",
   "id": "a7edfe24-4818-47ed-bc33-488efab73d0c",
   "metadata": {},
   "source": [
    "# QUESTION 04: Check the given symbols in the email"
   ]
  },
  {
   "cell_type": "code",
   "execution_count": null,
   "id": "4710578a-fbaf-48aa-bd50-b135c363ff06",
   "metadata": {},
   "outputs": [],
   "source": [
    "# Write a Python program that asks the user to enter an email address. The program should check if the email\n",
    "# contains the characters @ and .\"; (ignoring case). If either character is present, print \"Email format is valid.\"\"\n",
    "# Otherwise, print \"Invalid email format.\""
   ]
  },
  {
   "cell_type": "code",
   "execution_count": 37,
   "id": "df648125-b213-453b-8c0c-992ea712445d",
   "metadata": {},
   "outputs": [
    {
     "name": "stdin",
     "output_type": "stream",
     "text": [
      "Enter Your Email:  abc@gmail\n"
     ]
    },
    {
     "name": "stdout",
     "output_type": "stream",
     "text": [
      "Email format is valid.\n"
     ]
    }
   ],
   "source": [
    "# input\n",
    "def check_email(email):    \n",
    "    required_characters = \"@.\"\n",
    "    for char in required_characters:   # using for loop\n",
    "        if char in email:\n",
    "            return f\"Email format is valid.\"\n",
    "# Enter email\n",
    "email = input(\"Enter Your Email: \")\n",
    "result = check_email(email)\n",
    "print(result)"
   ]
  },
  {
   "cell_type": "markdown",
   "id": "2a3e505f-93d2-411a-877e-433e27b2a32c",
   "metadata": {},
   "source": [
    "# QUESTION 05: Check Different Data Types"
   ]
  },
  {
   "cell_type": "code",
   "execution_count": null,
   "id": "f471b0c3-f16e-4b8a-9613-97aeed277946",
   "metadata": {},
   "outputs": [],
   "source": [
    "# Write a python program to know data type of each element stored in a tuple, append the data types in a list.\n",
    "# Show final output in a list as data types of tuple elements"
   ]
  },
  {
   "cell_type": "code",
   "execution_count": 67,
   "id": "4bae3f93-462b-414f-ad6a-cb33287ea37b",
   "metadata": {},
   "outputs": [
    {
     "name": "stdout",
     "output_type": "stream",
     "text": [
      "Display Data Types: [<class 'int'>, <class 'float'>, <class 'str'>, <class 'list'>, <class 'tuple'>]\n"
     ]
    }
   ],
   "source": [
    "# input tuple\n",
    "Types=x = (11,22.333,\"apple\",[1,2,3],('a','b'))\n",
    "\n",
    "# List to store data types\n",
    "Data_types=[]\n",
    "\n",
    "# Append its data type to the list\n",
    "for element in Types:\n",
    "    Data_types.append(type(element))\n",
    "\n",
    "# Output Data Types\n",
    "print(\"Display Data Types:\",Data_types)"
   ]
  },
  {
   "cell_type": "markdown",
   "id": "06e2d7d9-96e5-4ef1-81c6-c03729558b12",
   "metadata": {},
   "source": [
    "# QUESTION 06: Check If person is an admin or not"
   ]
  },
  {
   "cell_type": "code",
   "execution_count": null,
   "id": "4f02c410-2c6d-423d-a8f1-39c5c6470f3b",
   "metadata": {},
   "outputs": [],
   "source": [
    "# Write a Python program that:\n",
    "# Checks if a given username exists in a list of active users.\n",
    "# Verifies if the user is the admin using identity operators."
   ]
  },
  {
   "cell_type": "code",
   "execution_count": 236,
   "id": "b24cafe8-4726-4efd-8821-d2b986077b44",
   "metadata": {},
   "outputs": [
    {
     "name": "stdout",
     "output_type": "stream",
     "text": [
      "The user'alice'is admin\n",
      "The user 'bob'is not the admin\n",
      "The user 'charlie'is not the admin\n",
      "The user'sarah' not found\n"
     ]
    }
   ],
   "source": [
    "# Input\n",
    "active_user=[(\"alice\",\"admin\"),\n",
    "             (\"bob\",\"user\"),\n",
    "            (\"charlie\",\"moderator\")]\n",
    "\n",
    "# Check if user is active or not\n",
    "def check_user(username):\n",
    "    for user,role in active_user:\n",
    "        if user== username:\n",
    "            if role==\"admin\":\n",
    "                print(f\"The user'{username}'is admin\")\n",
    "            else:\n",
    "                print(f\"The user '{username}'is not the admin\")\n",
    "            return\n",
    "    print (f\"The user'{username}' not found\")  # Display when a user is not found\n",
    "\n",
    "# Output\n",
    "check_user(\"alice\")   \n",
    "check_user(\"bob\")     # Display the users information\n",
    "check_user(\"charlie\") \n",
    "check_user(\"sarah\")   \n",
    "\n",
    "    "
   ]
  },
  {
   "cell_type": "markdown",
   "id": "afcbac35-dd0d-4f74-8185-68df4e7ca0fb",
   "metadata": {},
   "source": [
    "# QUESTION 07: Check Relations"
   ]
  },
  {
   "cell_type": "code",
   "execution_count": null,
   "id": "07ec6421-7e06-42d2-bd63-da623148a1e9",
   "metadata": {},
   "outputs": [],
   "source": [
    "# person1 has same family as of person2, write a program to print relation between person1 and person2, if their\n",
    "# data is ['father name','mother name','district','family number'] same (Print relation 'Siblings') also check person1\n",
    "# data with person3 which is cousin of person1 (Print relation 'Cousin')"
   ]
  },
  {
   "cell_type": "code",
   "execution_count": 251,
   "id": "8049f51f-9022-4490-9b20-3173964f65b9",
   "metadata": {},
   "outputs": [
    {
     "name": "stdout",
     "output_type": "stream",
     "text": [
      "False\n",
      "They Are Siblings\n",
      "They Are Cousins\n"
     ]
    }
   ],
   "source": [
    "# Input Information\n",
    "person1=['James','Lucy','Riverdale','Family42']\n",
    "person2=['James','Lucy','Riverdale','Family42']\n",
    "person3=['Robin','Leah','Greenwood','Family76']\n",
    "\n",
    "# Now check for same information \n",
    "# Check if person 1 and person 2 are siblings\n",
    "\n",
    "print(person1 is person2)  # False\n",
    "\n",
    "# Now\n",
    "if person1 is not person2:\n",
    "    print(\"They Are Siblings\")\n",
    "else:\n",
    "    print(\"They Are Not Siblings\")\n",
    "\n",
    "# Now check whether peron 1 and person 3 are cousins\n",
    "if person1 is not person3:\n",
    "    print(\"They Are Cousins\")\n",
    "else:\n",
    "    print(\"They Are Not Cousins\")"
   ]
  },
  {
   "cell_type": "markdown",
   "id": "0c7b13ab-a7ce-4048-82b7-ce35467d2736",
   "metadata": {},
   "source": [
    "# QUESTION 08: Write a Python program to store and display a book&#39;s title, author, year of publication, and price using a tuple."
   ]
  },
  {
   "cell_type": "code",
   "execution_count": null,
   "id": "d6cffb51-e94c-46d4-b739-a347e40fee61",
   "metadata": {},
   "outputs": [],
   "source": [
    "# Instructions:\n",
    "# Create a tuple to store the book details.\n",
    "# Ask the user for the book's title, author, year, and price.\n",
    "# Display the stored book information."
   ]
  },
  {
   "cell_type": "code",
   "execution_count": 281,
   "id": "d5f2cff8-9871-4942-87b3-cdfe299a27a7",
   "metadata": {},
   "outputs": [
    {
     "name": "stdin",
     "output_type": "stream",
     "text": [
      "Enter The Title: Pride and Prejudice\n",
      "Enter The AuthoR Name: Jane Austen\n",
      "Enter Publishing Year: 1813\n",
      "Enter The Books Price: 6.99\n"
     ]
    },
    {
     "name": "stdout",
     "output_type": "stream",
     "text": [
      "\n",
      " Book Details:\n",
      "Title:~ Pride and Prejudice\n",
      "Author Name:~ Jane Austen\n",
      "Year Of Publication:~ 1813\n",
      "Pricing:$6.99\n"
     ]
    }
   ],
   "source": [
    "# Input\n",
    "Title=input(\"Enter The Title:\")\n",
    "Author=input(\"Enter The AuthoR Name:\")\n",
    "Year=int(input(\"Enter Publishing Year:\"))\n",
    "Price=float(input(\"Enter The Books Price:\"))\n",
    "\n",
    "\n",
    "book_details=(Title,Author,Year,Price)\n",
    "\n",
    "print(\"\\n Book Details:\")\n",
    "print(f\"Title:~ {book_details[0]}\")\n",
    "print(f'Author Name:~ {book_details[1]}')\n",
    "print(f'Year Of Publication:~ {book_details[2]}')\n",
    "print(f\"Pricing:${book_details[3]:.2f}\")"
   ]
  },
  {
   "cell_type": "markdown",
   "id": "834c95a9-08ea-4e16-9735-bb521a75c78f",
   "metadata": {},
   "source": [
    "# QUESTION 09: Write a program to check if a user’s chosen subject is available in the list of offered subjects."
   ]
  },
  {
   "cell_type": "code",
   "execution_count": null,
   "id": "6a474d06-8ae4-4852-998d-daaa650b189b",
   "metadata": {},
   "outputs": [],
   "source": [
    "# Instructions:\n",
    "# Given a list of subjects, ask the user to input a subject.\n",
    "# Display whether the subject is available or not."
   ]
  },
  {
   "cell_type": "code",
   "execution_count": 289,
   "id": "b02e8d15-f46b-4991-b7c6-3d832cffd85a",
   "metadata": {},
   "outputs": [
    {
     "name": "stdin",
     "output_type": "stream",
     "text": [
      "Enter a Subject: Computer\n"
     ]
    },
    {
     "name": "stdout",
     "output_type": "stream",
     "text": [
      "The Subject'Computer'Is Avaliable\n"
     ]
    }
   ],
   "source": [
    "# Input\n",
    "# List of Avaliable Subjects\n",
    "avaliable_subjects=['English','Maths','Physics','Computer','Urdu','Islamiat']\n",
    "\n",
    "#Enter A desired Subject\n",
    "Choosen_subject=input(\"Enter a Subject:\")\n",
    "\n",
    "# Check if the subject is avaliable or not\n",
    "if Choosen_subject in avaliable_subjects:\n",
    "    print(f\"The Subject'{Choosen_subject}'Is Avaliable\")\n",
    "else:\n",
    "    print(f\"The Subject'{Choosen_subject}'Is Not Avaliable\")\n"
   ]
  },
  {
   "cell_type": "markdown",
   "id": "669f6906-b5bb-452b-be45-6dc1ac93438a",
   "metadata": {},
   "source": [
    "# QUESTION 10: Write a Python program that performs the following tasks using tuple methods"
   ]
  },
  {
   "cell_type": "code",
   "execution_count": null,
   "id": "bd96ad98-1550-47c3-94ca-afb98e9720ad",
   "metadata": {},
   "outputs": [],
   "source": [
    "# Create a tuple with multiple integer values, including duplicates.\n",
    "# Prompt the user to input a number and find the index of its first occurrence in the tuple.\n",
    "# Ask the user for another number and count how many times it appears in the tuple.\n",
    "# Display appropriate messages based on the results"
   ]
  },
  {
   "cell_type": "code",
   "execution_count": 298,
   "id": "d09a7b18-e0b4-495c-bab4-6c2e712d58c7",
   "metadata": {},
   "outputs": [
    {
     "name": "stdin",
     "output_type": "stream",
     "text": [
      "Enter Number To Find Sequence: 4\n"
     ]
    },
    {
     "name": "stdout",
     "output_type": "stream",
     "text": [
      "The First Occurance Of:4 is at index:5\n"
     ]
    },
    {
     "name": "stdin",
     "output_type": "stream",
     "text": [
      "Enter Number To Find Sequence: 8\n"
     ]
    },
    {
     "name": "stdout",
     "output_type": "stream",
     "text": [
      "The Number:8appears:2 times in the tuple\n"
     ]
    }
   ],
   "source": [
    "# Input Numbers\n",
    "number_tuple=(1,2,2,3,3,4,4,5,6,7,8,8,9)\n",
    "\n",
    "# Check Sequence of first number\n",
    "first_number=int(input(\"Enter Number To Find Sequence:\"))\n",
    "\n",
    "if first_number in number_tuple:\n",
    "    index_of_first=number_tuple.index(first_number)\n",
    "    print(f\"The First Occurance Of:{first_number} is at index:{index_of_first}\")\n",
    "else:\n",
    "    print(f\"The Number: {first_number} is Not Found In The Tuple\")\n",
    "\n",
    "# Check Sequence of second number\n",
    "second_number=int(input(\"Enter Number To Find Sequence:\"))\n",
    "count_of_second=number_tuple.count(second_number)\n",
    "\n",
    "if count_of_second>0:\n",
    "    print(f'The Number:{second_number}appears:{count_of_second} times in the tuple')\n",
    "else:\n",
    "    print(f'The Number:{second_number} is not found ')\n",
    "\n",
    "# Output\n",
    "\n"
   ]
  },
  {
   "cell_type": "markdown",
   "id": "f8952fdd-aa25-43a6-babb-42f4ac7381b2",
   "metadata": {},
   "source": [
    "# Question for Hard working learners (Not Mandatory)"
   ]
  },
  {
   "cell_type": "code",
   "execution_count": null,
   "id": "5d39e04f-fa7b-4181-93e4-9aa9ea5a26ef",
   "metadata": {},
   "outputs": [],
   "source": [
    "# Write a Python program that asks the user to enter the current temperature in Celsius and checks whether it's\n",
    "# freezing, normal, or hot based on predefined temperature values.\"\n",
    "\n",
    "# Assignment Requirements:\n",
    "# Input: The user will be asked to enter the current temperature in Celsius.\n",
    "# Predefined values:\n",
    "# Freezing: -5\n",
    "# Normal: 25\n",
    "# Hot: 40"
   ]
  },
  {
   "cell_type": "code",
   "execution_count": 309,
   "id": "e6298b13-ec72-47e1-a499-5803646b7d00",
   "metadata": {},
   "outputs": [
    {
     "name": "stdin",
     "output_type": "stream",
     "text": [
      "Enter The Current Temperature In Celsius: 19\n"
     ]
    },
    {
     "name": "stdout",
     "output_type": "stream",
     "text": [
      "It's Normal\n"
     ]
    }
   ],
   "source": [
    "# Input\n",
    "freezing_temp= -5\n",
    "normal_temp= 25\n",
    "hot_temp= 40\n",
    "\n",
    "# Enter current temperature in Celsius\n",
    "current_temp=float(input(\"Enter The Current Temperature In Celsius:\"))\n",
    "\n",
    "# Check The temperature using Conditions\n",
    "if current_temp<=freezing_temp:\n",
    "    print(\"It's Freezing\")\n",
    "elif current_temp<=normal_temp:\n",
    "    print(\"It's Normal\")\n",
    "elif current_temp>hot_temp:\n",
    "    print(\"It's Hot\")\n",
    "else:\n",
    "    print(\"Average Temperature\")\n",
    "\n",
    "# Output"
   ]
  },
  {
   "cell_type": "code",
   "execution_count": null,
   "id": "527d0bf9-c9e5-4848-89e3-336ef54e1b10",
   "metadata": {},
   "outputs": [],
   "source": []
  }
 ],
 "metadata": {
  "kernelspec": {
   "display_name": "Python 3 (ipykernel)",
   "language": "python",
   "name": "python3"
  },
  "language_info": {
   "codemirror_mode": {
    "name": "ipython",
    "version": 3
   },
   "file_extension": ".py",
   "mimetype": "text/x-python",
   "name": "python",
   "nbconvert_exporter": "python",
   "pygments_lexer": "ipython3",
   "version": "3.12.7"
  }
 },
 "nbformat": 4,
 "nbformat_minor": 5
}
