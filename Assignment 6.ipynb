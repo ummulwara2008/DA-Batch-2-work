{
 "cells": [
  {
   "cell_type": "markdown",
   "id": "732c612b-05c4-4ae9-a2f7-c21078dd32b2",
   "metadata": {},
   "source": [
    "# QUESTION 01: In a transportation system, we have two classes:\n",
    "#  ElectricVehicle: A class that has a method charge() to charge the vehicle.\n",
    "#  GasolineVehicle: A class that has a method fuel_up() to refuel the vehicle."
   ]
  },
  {
   "cell_type": "code",
   "execution_count": null,
   "id": "63933d6f-c148-42a5-b420-1b85f3d5c34d",
   "metadata": {},
   "outputs": [],
   "source": [
    "# Create a class HybridCar that inherits from both ElectricVehicle and GasolineVehicle. The HybridCar\n",
    "# class should have a method drive() that prints a message showing the car is being driven. Instantiate\n",
    "# an object of class HybridCar and demonstrate the usage of charge(), fuel_up(), and drive()."
   ]
  },
  {
   "cell_type": "code",
   "execution_count": 12,
   "id": "7dc21648-8d32-4d2c-8736-9f3b8ae01f7b",
   "metadata": {},
   "outputs": [
    {
     "name": "stdout",
     "output_type": "stream",
     "text": [
      "Charging The Electric Vehicle\n",
      "Fulling The Gasoline Vehicle\n",
      "The Car is Being Driven\n"
     ]
    }
   ],
   "source": [
    "# Input\n",
    "# Class for Electric Vehicle\n",
    "class electricvehicle:\n",
    "    def charge(self):\n",
    "        print(\"Charging The Electric Vehicle\")\n",
    "\n",
    "# Class for Gasoline Vehicle\n",
    "class gasolinevehicle:\n",
    "    def fule_up(self):\n",
    "        print(\"Fulling The Gasoline Vehicle\")\n",
    "\n",
    "# Class for Hybrid Car\n",
    "class hybridcar(electricvehicle,gasolinevehicle):\n",
    "    def drive(self):\n",
    "        print(\"The Car is Being Driven\")\n",
    "\n",
    "# Instance\n",
    "hybrid_car=hybridcar()\n",
    "\n",
    "# Calling methods\n",
    "hybrid_car.charge()\n",
    "hybrid_car.fule_up()\n",
    "hybrid_car.drive()"
   ]
  },
  {
   "cell_type": "markdown",
   "id": "cbe4cc92-dd95-45d4-9bc7-3aba41669d9d",
   "metadata": {},
   "source": [
    "# QUESTION 02: Create a class Animal with a method make_sound(), which prints \"Animal\n",
    "# makes a sound\". Then,create two subclasses:\n",
    "#  Lion: Override the make_sound() method to print \"Roar\".\n",
    "#  Cat: Override the make_sound() method to print \"Meow\"."
   ]
  },
  {
   "cell_type": "code",
   "execution_count": null,
   "id": "1a97e1ee-48cb-462f-afd0-feca8b961fbf",
   "metadata": {},
   "outputs": [],
   "source": [
    "# Demonstrate polymorphism by calling make_sound() on instances of Lion and Cat."
   ]
  },
  {
   "cell_type": "code",
   "execution_count": 25,
   "id": "60763656-056a-43fe-a490-8d1f8a4d9655",
   "metadata": {},
   "outputs": [
    {
     "name": "stdout",
     "output_type": "stream",
     "text": [
      "Roar\n",
      "Meow\n"
     ]
    }
   ],
   "source": [
    "# Input\n",
    "# Class for animal\n",
    "class Animal:\n",
    "    def make_sound(self):\n",
    "        print(\"Animal makes a sound\")\n",
    "\n",
    "# SubClass for Lion\n",
    "class Lion(animal):\n",
    "    def make_sound(self):\n",
    "        print(\"Roar\")\n",
    "\n",
    "# SubClass for Cat\n",
    "class Cat(animal):\n",
    "    def make_sound(self):\n",
    "        print(\"Meow\")\n",
    "\n",
    "# Instance\n",
    "lion=Lion()\n",
    "cat=Cat()\n",
    "\n",
    "# Calling Methods\n",
    "lion.make_sound()\n",
    "cat.make_sound()"
   ]
  },
  {
   "cell_type": "markdown",
   "id": "e00a6838-0d3f-4bff-a4a7-1fcb32878360",
   "metadata": {},
   "source": [
    "# QUESTION 03: Create an abstract class SmartHomeDevice with two abstract methods:\n",
    "#  turn_on() (to turn the device on)\n",
    "#  turn_off() (to turn the device off)"
   ]
  },
  {
   "cell_type": "code",
   "execution_count": null,
   "id": "e4fc820b-0572-4721-8230-1ddfe81d6b37",
   "metadata": {},
   "outputs": [],
   "source": [
    "# Then, create a Light class that inherits from SmartHomeDevice. Implement the methods turn_on()\n",
    "# and turn_off() for a light device. The turn_on() method should print \"Light is ON\", and the turn_off()\n",
    "# method should print \"Light is OFF\".\n",
    "# Write a Python program to control the light device in a smart home."
   ]
  },
  {
   "cell_type": "code",
   "execution_count": 30,
   "id": "7adf0c95-fc14-4777-8ef4-ffa3f5779997",
   "metadata": {},
   "outputs": [
    {
     "name": "stdout",
     "output_type": "stream",
     "text": [
      "Turning  Device On:\n",
      "Light is On\n",
      "Turning Device Off:\n",
      "Light is Off\n"
     ]
    }
   ],
   "source": [
    "# Input \n",
    "# Base Class\n",
    "class smart_home_devices:\n",
    "    def turn_on(self):\n",
    "        print(\"Turning  Device On:\")\n",
    "\n",
    "    def turn_off(self):\n",
    "        print(\"Turning Device Off:\")\n",
    "\n",
    "# Inherite from smart_home_devices\n",
    "class Light(smart_home_devices):\n",
    "    def turn_on(self):\n",
    "        super().turn_on()\n",
    "        print(\"Light is On\")\n",
    "\n",
    "    def turn_off(self):\n",
    "        super().turn_off()\n",
    "        print(\"Light is Off\")\n",
    "\n",
    "# Instance\n",
    "light=Light()\n",
    "\n",
    "# Calling Methods\n",
    "light.turn_on()\n",
    "light.turn_off()"
   ]
  },
  {
   "cell_type": "markdown",
   "id": "58265b6c-bc53-4972-9fb8-3ad58b364cfc",
   "metadata": {},
   "source": [
    "# QUESTION 04: Create a class Greeting with a method greet() that can handle different numbers of arguments.\n",
    "#  If no argument is passed, it should print &quot;Hello!&quot;.\n",
    "#  If one argument (a name) is passed, it should print &quot;Hello, !&quot;.\n",
    "#  If two arguments (a name and a greeting) are passed, it should print the greeting with the\n",
    "# name (e.g., &quot;Good morning, !&quot;)."
   ]
  },
  {
   "cell_type": "code",
   "execution_count": null,
   "id": "2210e601-9eb7-44bc-8072-0fec6599cdd5",
   "metadata": {},
   "outputs": [],
   "source": [
    "# Simulate method overloading using default arguments or variable-length arguments, and\n",
    "# demonstrate the polymorphic behavior by calling greet() with different numbers of arguments."
   ]
  },
  {
   "cell_type": "code",
   "execution_count": 40,
   "id": "e89698a2-388b-403d-9c34-aa00345f4917",
   "metadata": {},
   "outputs": [
    {
     "name": "stdout",
     "output_type": "stream",
     "text": [
      "Hello!\n",
      "Hello,John!\n",
      "Good morning,John!\n"
     ]
    }
   ],
   "source": [
    "# Input\n",
    "class Greeting:\n",
    "   def greet(self,name=None,greeting=\"Hello\"):\n",
    "       if name is None:\n",
    "           print(\"Hello!\")\n",
    "       else:\n",
    "           print(f\"{greeting},{name}!\")\n",
    "\n",
    "# Instance\n",
    "greeting=Greeting()\n",
    "\n",
    "# Calling Methods\n",
    "greeting.greet()  # Output: Hello!\n",
    "greeting.greet(\"John\") # Output: Hello,Jhon!\n",
    "greeting.greet(\"John\", \"Good morning\")  # Output: Good morning,Jhon!\n",
    "\n",
    "\n",
    "            \n"
   ]
  },
  {
   "cell_type": "markdown",
   "id": "76eafa72-518f-4575-918f-5bff6c1f9f29",
   "metadata": {},
   "source": [
    "# QUESTION 05:Create a class CarRental to manage the rental of cars.\n",
    " The class should have private attributes for the car&#39;s name, price per day, and the number of\n",
    "rental days.\n",
    " Create a method to calculate the total rental cost and a method to set the rental days.\n",
    " Use getter and setter methods for modifying and accessing the car&#39;s information."
   ]
  },
  {
   "cell_type": "code",
   "execution_count": null,
   "id": "7ce60e0e-7994-473c-9b09-2ee9865382a7",
   "metadata": {},
   "outputs": [],
   "source": [
    "# Demonstrate encapsulation by creating an object of CarRental and calculating the total rental cost."
   ]
  },
  {
   "cell_type": "code",
   "execution_count": null,
   "id": "b6f2d1e6-511e-4b3a-82ff-a0f697deefcf",
   "metadata": {},
   "outputs": [],
   "source": [
    "# Input\n",
    "class CarRental:\n",
    "    def __init__(self, car_name, price_per_day):\n",
    "       \n",
    "        self.__car_name = car_name\n",
    "        self.__price_per_day = price_per_day\n",
    "        self.__rental_days = 0  \n",
    "\n",
    "    # Getter methods\n",
    "    def get_car_name(self):\n",
    "        return self.__car_name\n",
    "\n",
    "    def get_price_per_day(self):\n",
    "        return self.__price_per_day\n",
    "\n",
    "    def get_rental_days(self):\n",
    "        return self.__rental_days\n",
    "\n",
    "    # Setter methods\n",
    "    def set_rental_days(self, rental_days):\n",
    "        if rental_days > 0:\n",
    "            self.__rental_days = rental_days\n",
    "        else:\n",
    "            print(\"Rental days must be a positive number.\")\n",
    "\n",
    "    # The Method to calculate the total rental cost\n",
    "    def calculate_total_cost(self):\n",
    "        return self.__price_per_day * self.__rental_days\n",
    "\n",
    "\n",
    "car_rental = CarRental(\"Toyota Camry\", 50)\n",
    "car_rental.set_rental_days(5)  # Setting rental days\n",
    "\n",
    "# Accessing car details and calculating total cost\n",
    "print(f\"Car Name: {car_rental.get_car_name()}\")\n",
    "print(f\"Price Per Day: ${car_rental.get_price_per_day()}\")\n",
    "print(f\"Rental Days: {car_rental.get_rental_days()}\")\n",
    "print(f\"Total Rental Cost: ${car_rental.calculate_total_cost()}\")\n"
   ]
  }
 ],
 "metadata": {
  "kernelspec": {
   "display_name": "Python 3 (ipykernel)",
   "language": "python",
   "name": "python3"
  },
  "language_info": {
   "codemirror_mode": {
    "name": "ipython",
    "version": 3
   },
   "file_extension": ".py",
   "mimetype": "text/x-python",
   "name": "python",
   "nbconvert_exporter": "python",
   "pygments_lexer": "ipython3",
   "version": "3.12.7"
  }
 },
 "nbformat": 4,
 "nbformat_minor": 5
}
