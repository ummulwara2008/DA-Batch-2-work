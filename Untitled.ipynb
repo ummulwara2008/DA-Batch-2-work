{
 "cells": [
  {
   "cell_type": "code",
   "execution_count": null,
   "id": "cc61994c-e13a-4049-bd3b-23bfddf93b76",
   "metadata": {},
   "outputs": [],
   "source": []
  }
 ],
 "metadata": {
  "kernelspec": {
   "display_name": "",
   "name": ""
  },
  "language_info": {
   "name": ""
  }
 },
 "nbformat": 4,
 "nbformat_minor": 5
}
