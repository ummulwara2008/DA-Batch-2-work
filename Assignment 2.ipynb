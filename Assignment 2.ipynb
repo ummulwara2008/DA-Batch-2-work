{
 "cells": [
  {
   "cell_type": "markdown",
   "id": "1fad420e-0b2b-4e3e-a711-6510079529c2",
   "metadata": {},
   "source": [
    "# QUESTION 01:Age Group Classification"
   ]
  },
  {
   "cell_type": "code",
   "execution_count": null,
   "id": "db3e2473-14c8-4397-b593-685529778104",
   "metadata": {},
   "outputs": [],
   "source": [
    "## Write a Python program that takes the age of a person as input and classifies them into one of the\n",
    "##following age groups:"
   ]
  },
  {
   "cell_type": "code",
   "execution_count": 1,
   "id": "80ce6568-ab03-4092-b4c8-e23648b73e76",
   "metadata": {},
   "outputs": [
    {
     "name": "stdin",
     "output_type": "stream",
     "text": [
      "Enter Your Age 13\n"
     ]
    },
    {
     "name": "stdout",
     "output_type": "stream",
     "text": [
      "Teenager\n"
     ]
    }
   ],
   "source": [
    "# Input\n",
    "age=int(input(\"Enter Your Age\"))\n",
    "\n",
    "# Find The age\n",
    "if age<=12:\n",
    "    print(\"Child\")\n",
    "elif age<=19:   \n",
    "    print(\"Teenager\")\n",
    "elif age<= 64:\n",
    "    print(\"Adult\")\n",
    "else:\n",
    "    print(\"Senior\")"
   ]
  },
  {
   "cell_type": "markdown",
   "id": "d34fb97b-eb34-4249-89c1-476392b55e19",
   "metadata": {},
   "source": [
    "# QUESTION 02:  Checking for Eligibility for Discount"
   ]
  },
  {
   "cell_type": "code",
   "execution_count": null,
   "id": "ea8b5638-1a93-4c70-8635-dcb175081196",
   "metadata": {},
   "outputs": [],
   "source": [
    " ## Write a Python program that determines if a customer is eligible for a discount. The program should\n",
    "## take the customer membership status and purchase amount as input and check the following\n",
    "# conditions:"
   ]
  },
  {
   "cell_type": "code",
   "execution_count": 23,
   "id": "f322824e-40f4-4ca0-b4fa-b9ffe1c5128c",
   "metadata": {},
   "outputs": [
    {
     "name": "stdin",
     "output_type": "stream",
     "text": [
      "Enter member ship status premium or regular: premium\n",
      "Enter your total payed amount: 1000\n"
     ]
    },
    {
     "name": "stdout",
     "output_type": "stream",
     "text": [
      "You are eligible for a discount!\n"
     ]
    }
   ],
   "source": [
    "# Input\n",
    "membership_status=input(\"Enter member ship status premium or regular:\")\n",
    "purchase_amount=float(input(\"Enter your total payed amount:\"))\n",
    "\n",
    "# Checking eligibility for discount\n",
    "if membership_status == \"premium\" and purchase_amount >=1000:\n",
    "    print(\"You are eligible for a discount!\")\n",
    "elif membership_status == \"regular\" and purchase_amount >= 2000:\n",
    "    print(\"You are eligible for a discount!\")   \n",
    "else:\n",
    "    print(\"You are not eligible for a discount.\")"
   ]
  },
  {
   "cell_type": "markdown",
   "id": "7ebce343-1f24-4127-aa0f-0a9b6fd5e9c7",
   "metadata": {},
   "source": [
    "# QUESTION 03: Voting Eligibility Check"
   ]
  },
  {
   "cell_type": "code",
   "execution_count": null,
   "id": "94e09ab1-6d8b-4d88-bf90-f9563dd3f462",
   "metadata": {},
   "outputs": [],
   "source": [
    "# Write a Python program that checks if a person is eligible to vote based on their age and citizenship\n",
    "# status. The program should take the following inputs:"
   ]
  },
  {
   "cell_type": "code",
   "execution_count": 25,
   "id": "b82b3a73-4bd1-48c9-9f40-d452a68fb5b0",
   "metadata": {},
   "outputs": [
    {
     "name": "stdin",
     "output_type": "stream",
     "text": [
      "Enter age: 17\n",
      "Enter citizen or non-citizen: citizen\n",
      "Special region: yes\n"
     ]
    },
    {
     "name": "stdout",
     "output_type": "stream",
     "text": [
      "Eligible to vote\n"
     ]
    }
   ],
   "source": [
    "# Input \n",
    "age=int(input(\"Enter age:\"))\n",
    "citizen_status=input(\"Enter citizen or non-citizen:\")\n",
    "special_region=input(\"Special region:\")\n",
    "\n",
    "# Find if the given condition is true\n",
    "if age>=18 and citizen_status==\"citizen\" and special_region==\"no\":\n",
    "    print(\"Eligible to vote\")\n",
    "elif age>=16 and citizen_status==\"citizen\"and special_region==\"yes\":\n",
    "    print(\"Eligible to vote\")\n",
    "else:\n",
    "    print(\"Not Eligible to vote\")"
   ]
  },
  {
   "cell_type": "markdown",
   "id": "7f94f132-b5fe-4bb6-9584-50d24c7f3dba",
   "metadata": {},
   "source": [
    "# QUESTION 04:Employee Salary Bonus Eligibility"
   ]
  },
  {
   "cell_type": "code",
   "execution_count": null,
   "id": "a6020503-70f1-4c3c-82d9-6a3744bd03cf",
   "metadata": {},
   "outputs": [],
   "source": [
    "# Write a Python program that determines if an employee is eligible for a salary bonus based on the\n",
    "# following conditions:"
   ]
  },
  {
   "cell_type": "code",
   "execution_count": 29,
   "id": "425986aa-c0fc-45ec-b8cb-37164abd1925",
   "metadata": {},
   "outputs": [
    {
     "name": "stdin",
     "output_type": "stream",
     "text": [
      "Enter performane rating: Good\n",
      "Enter years of service: 11\n"
     ]
    },
    {
     "name": "stdout",
     "output_type": "stream",
     "text": [
      "Eligible for bonus\n"
     ]
    }
   ],
   "source": [
    "# Input \n",
    "employees_performance_rating=input(\"Enter performane rating:\")\n",
    "years_of_service=float(input(\"Enter years of service:\"))\n",
    "\n",
    "# Find if any condition is true\n",
    "if employees_performance_rating=='Excellent' and years_of_service>=5:\n",
    "    print(\"Eligible for bonus\")\n",
    "elif employees_performance_rating==\"Good\" and years_of_service>=10:\n",
    "    print(\"Eligible for bonus\")\n",
    "elif employees_performance_rating==\"Satisfactory\" and years_of_service>=15:\n",
    "    print(\"Eligible for discount\")\n",
    "else:\n",
    "    print(\"Not eligible for bonus\")"
   ]
  },
  {
   "cell_type": "markdown",
   "id": "8af2276b-d0d1-4a0b-a14d-e238db77f89e",
   "metadata": {},
   "source": [
    "# QUESTION 05:"
   ]
  },
  {
   "cell_type": "code",
   "execution_count": null,
   "id": "f2b154bc-181b-4581-b4ef-e9468e92336f",
   "metadata": {},
   "outputs": [],
   "source": [
    "# Write a program that replaces spaces with underscores,counts how many underscores are there, and finds the position of the first underscore.\n",
    "# Use text: \"I'm learning Python programming\"?"
   ]
  },
  {
   "cell_type": "code",
   "execution_count": 31,
   "id": "5f274355-7c78-43d4-b08f-8cc9c018a214",
   "metadata": {},
   "outputs": [
    {
     "name": "stdout",
     "output_type": "stream",
     "text": [
      "Modified_text: I'm_learning_python_programming\n",
      "Underscore count: 3\n",
      "First underscore count 3\n"
     ]
    }
   ],
   "source": [
    "# Define the input text\n",
    "text=(\"I'm learning python programming\")\n",
    "# Define what needs to be replaced\n",
    "modified_text=text.replace(\" \",\"_\")\n",
    "# Define what needs to be counted\n",
    "underscore_count=modified_text.count(\"_\")\n",
    "# Find the position\n",
    "first_underscore_position=modified_text.find(\"_\")\n",
    "\n",
    "# Output\n",
    "print(\"Modified_text:\",modified_text)\n",
    "print(\"Underscore count:\",underscore_count)\n",
    "print(\"First underscore count\",first_underscore_position)"
   ]
  },
  {
   "cell_type": "markdown",
   "id": "c4774f99-b39d-4192-ab4c-e9a73778539c",
   "metadata": {},
   "source": [
    "# QUESTION 06: Write a Python program that"
   ]
  },
  {
   "cell_type": "code",
   "execution_count": null,
   "id": "c585575c-0181-4d44-be0f-63738c58c692",
   "metadata": {},
   "outputs": [],
   "source": [
    "# Takes a string as input.\n",
    "# Prints all characters of the string except the last 3 using slicing.\n",
    "# Prints every second character of the string using slicing.\n",
    "# Prints the string in reverse using slicing"
   ]
  },
  {
   "cell_type": "code",
   "execution_count": 33,
   "id": "a9696152-b308-4940-b1fc-ff2efca33817",
   "metadata": {},
   "outputs": [
    {
     "name": "stdout",
     "output_type": "stream",
     "text": [
      "[30, 40, 50, 60]\n",
      "[30, 50, 70, 90]\n"
     ]
    },
    {
     "data": {
      "text/plain": [
       "[90, 80, 70, 60, 50, 40, 30]"
      ]
     },
     "execution_count": 33,
     "metadata": {},
     "output_type": "execute_result"
    }
   ],
   "source": [
    "# Takes a string as input.\n",
    "salaries=[30,40,50,60,70,80,90]\n",
    "\n",
    "# Prints all characters of the string except the last 3 using slicing.\n",
    "print(salaries[:-3])\n",
    "      \n",
    "# Prints every second character of the string using slicing.\n",
    "print(salaries[::2])\n",
    "\n",
    "# Prints the string in reverse using slicing\n",
    "salaries[::-1]\n"
   ]
  },
  {
   "cell_type": "markdown",
   "id": "4a51e5f8-93e3-41d9-8425-095a9f195268",
   "metadata": {},
   "source": [
    "# QUESTION 07:"
   ]
  },
  {
   "cell_type": "code",
   "execution_count": null,
   "id": "1b4e0ad2-b4d4-480f-beb5-4d0d24f1bb50",
   "metadata": {},
   "outputs": [],
   "source": [
    "# Given a sentence, you need to reverse the order of the words in the sentence while\n",
    "# preserving their original capitalization and spaces.\n",
    "# Use text : \"Hello World, We are learning Python\";"
   ]
  },
  {
   "cell_type": "code",
   "execution_count": 35,
   "id": "62d499a1-3b1a-4f93-a752-e51ac6eb3760",
   "metadata": {},
   "outputs": [
    {
     "data": {
      "text/plain": [
       "'Python learning are We World, Hello'"
      ]
     },
     "execution_count": 35,
     "metadata": {},
     "output_type": "execute_result"
    }
   ],
   "source": [
    "# Input text\n",
    "text = \"Hello World, We are learning Python\"\n",
    "\n",
    "# Split the sentence into words\n",
    "seprate=text.split()\n",
    "\n",
    "# Reverse the order of words\n",
    "rev=seprate[::-1]\n",
    "\n",
    "# Join them back into a sentence with a single space\n",
    "final=' '.join(rev)\n",
    "\n",
    "# Print the result\n",
    "final\n",
    "  "
   ]
  },
  {
   "cell_type": "markdown",
   "id": "56e18b1e-389e-40ec-b765-cdc37a70941c",
   "metadata": {},
   "source": [
    "# QUESTION 08: "
   ]
  },
  {
   "cell_type": "code",
   "execution_count": null,
   "id": "98a919a5-1589-4cb3-84a5-16291e4ee598",
   "metadata": {},
   "outputs": [],
   "source": [
    "# You have a product code that follows the format \"SKU-12345-XYZ\". You need to:\n",
    "# Remove the \"SKU-\" and the\"-XYZ\" from the product code. Extract and return the number"
   ]
  },
  {
   "cell_type": "code",
   "execution_count": 37,
   "id": "95e2d2a6-7b6d-4351-a648-db634a6a8985",
   "metadata": {},
   "outputs": [
    {
     "data": {
      "text/plain": [
       "'12345'"
      ]
     },
     "execution_count": 37,
     "metadata": {},
     "output_type": "execute_result"
    }
   ],
   "source": [
    "# Input product key\n",
    "product_key=\"SKU-12345-XYZ\"\n",
    "\n",
    "# Remove the \"SKU-\" and \"-XYZ\" using slicing\n",
    "number=product_key[4:-4]\n",
    "\n",
    "# Print the result\n",
    "number\n"
   ]
  },
  {
   "cell_type": "markdown",
   "id": "21bc9958-ecc6-42e2-8f64-0cc92f6ed668",
   "metadata": {},
   "source": [
    "# QUESTION 09:"
   ]
  },
  {
   "cell_type": "code",
   "execution_count": null,
   "id": "52e9649b-4dbf-4bff-8fc5-d4118907aeb0",
   "metadata": {},
   "outputs": [],
   "source": [
    "# Write a Python program to check user password has following:\n",
    "# Whether the string contains any uppercase characters. Whether the string contains any lowercase\n",
    "# characters. Whether the string contains any spaces. Whether the string contains any special\n",
    "# characters (anything other than letters, digits, and spaces)."
   ]
  },
  {
   "cell_type": "code",
   "execution_count": 9,
   "id": "6c7c8d89-1114-4f86-aa2e-2b2538628e20",
   "metadata": {},
   "outputs": [
    {
     "name": "stdin",
     "output_type": "stream",
     "text": [
      "Enter your password:  ummulwara304@gmail.com\n"
     ]
    },
    {
     "name": "stdout",
     "output_type": "stream",
     "text": [
      "Password contains uppercase: False\n",
      "Password contains lowercase: True\n",
      "Password contains spaces: False\n",
      "Password contains special characters: True\n"
     ]
    }
   ],
   "source": [
    "import re\n",
    "\n",
    "def check_password(password):\n",
    "    # Check if password contains any uppercase letter\n",
    "    has_uppercase = any(char.isupper() for char in password)\n",
    "    \n",
    "    # Check if password contains any lowercase letter\n",
    "    has_lowercase = any(char.islower() for char in password)\n",
    "    \n",
    "    # Check if password contains any spaces\n",
    "    has_space = ' ' in password\n",
    "    \n",
    "    # Check if password contains any special characters\n",
    "    has_special = bool(re.search(r'[^A-Za-z0-9 ]', password))  # Anything other than letters, digits, and space\n",
    "\n",
    "    # Output the results\n",
    "    print(\"Password contains uppercase:\", has_uppercase)\n",
    "    print(\"Password contains lowercase:\", has_lowercase)\n",
    "    print(\"Password contains spaces:\", has_space)\n",
    "    print(\"Password contains special characters:\", has_special)\n",
    "\n",
    "# For Jupyter: Allow user input\n",
    "password = input(\"Enter your password: \")\n",
    "\n",
    "# Check the password conditions\n",
    "check_password(password)\n"
   ]
  },
  {
   "cell_type": "markdown",
   "id": "5c9b9f97-757d-4e02-94eb-81684e3fa8a2",
   "metadata": {},
   "source": [
    "# QUESTION 10: Find the Longest Word"
   ]
  },
  {
   "cell_type": "code",
   "execution_count": null,
   "id": "340ea3be-5746-4d37-a2f1-f27dcf19af3e",
   "metadata": {},
   "outputs": [],
   "source": [
    "# Write a Python program that finds the longest word in a given string."
   ]
  },
  {
   "cell_type": "code",
   "execution_count": 7,
   "id": "c9951449-8b0b-40c4-9035-68d249830d36",
   "metadata": {},
   "outputs": [
    {
     "name": "stdin",
     "output_type": "stream",
     "text": [
      "Enter a sentence:  python programming\n"
     ]
    },
    {
     "data": {
      "text/plain": [
       "'programming'"
      ]
     },
     "execution_count": 7,
     "metadata": {},
     "output_type": "execute_result"
    }
   ],
   "source": [
    "def find_longest_word(sentence):\n",
    "    # Split the sentence into words\n",
    "    words = sentence.split()\n",
    "    \n",
    "    # Initialize the longest word variable\n",
    "    longest_word = ''\n",
    "    \n",
    "    # Loop through each word and check its length\n",
    "    for word in words:\n",
    "        # Update the longest word if the current word is longer\n",
    "        if len(word) > len(longest_word):\n",
    "            longest_word = word\n",
    "            \n",
    "    return longest_word\n",
    "\n",
    "# Example usage:\n",
    "sentence = input(\"Enter a sentence: \")\n",
    "longest_word = find_longest_word(sentence) \n",
    "longest_word\n"
   ]
  },
  {
   "cell_type": "code",
   "execution_count": null,
   "id": "e607e619-19ff-40bf-89c4-f407da66435d",
   "metadata": {},
   "outputs": [],
   "source": []
  }
 ],
 "metadata": {
  "kernelspec": {
   "display_name": "Python 3 (ipykernel)",
   "language": "python",
   "name": "python3"
  },
  "language_info": {
   "codemirror_mode": {
    "name": "ipython",
    "version": 3
   },
   "file_extension": ".py",
   "mimetype": "text/x-python",
   "name": "python",
   "nbconvert_exporter": "python",
   "pygments_lexer": "ipython3",
   "version": "3.12.7"
  }
 },
 "nbformat": 4,
 "nbformat_minor": 5
}
