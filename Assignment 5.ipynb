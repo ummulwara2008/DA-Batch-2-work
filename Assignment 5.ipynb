{
 "cells": [
  {
   "cell_type": "markdown",
   "id": "a8020fa4-05f2-4b79-a79b-dfb9dbc39188",
   "metadata": {},
   "source": [
    "# QUESTION 01: Write a Python function called add_numbers that takes two numbers as arguments and returns their sum. Then, test the function by calling it with two numbers of your choice."
   ]
  },
  {
   "cell_type": "code",
   "execution_count": 13,
   "id": "ad515e90-926e-46af-9db1-57945899c99e",
   "metadata": {},
   "outputs": [
    {
     "name": "stdout",
     "output_type": "stream",
     "text": [
      "109\n"
     ]
    }
   ],
   "source": [
    "# Input\n",
    "def add_numbers(x,y):\n",
    "    return x+y\n",
    "\n",
    "# Print the Output\n",
    "result=add_numbers(22,87)\n",
    "print(result)"
   ]
  },
  {
   "cell_type": "markdown",
   "id": "3ebb648a-0c48-4519-9776-39a5ecba1a8f",
   "metadata": {},
   "source": [
    "# QUESTION 02: Write a Python function count_vowels that accepts a string and returns the number of vowels (a, e, i, o, u) in that string.\n"
   ]
  },
  {
   "cell_type": "code",
   "execution_count": null,
   "id": "b1614e57-a932-4cc5-be4d-e87f4097f660",
   "metadata": {},
   "outputs": [],
   "source": [
    "# - Example: 'Orange'\n",
    "# - Output: 3 vowels"
   ]
  },
  {
   "cell_type": "code",
   "execution_count": 32,
   "id": "393877d1-86f7-438a-80ec-0bfd4b3914f0",
   "metadata": {},
   "outputs": [
    {
     "name": "stdout",
     "output_type": "stream",
     "text": [
      "3\n"
     ]
    }
   ],
   "source": [
    "# Input\n",
    "def count_vowels(s):\n",
    "    vowels=\"aeiouAEIOU\"\n",
    "    count=0\n",
    "    for chars in s:\n",
    "        if chars in vowels:\n",
    "            count+=1\n",
    "    return count\n",
    "\n",
    "# Print the Output\n",
    "result=count_vowels(\"Orange\")\n",
    "print(result)"
   ]
  },
  {
   "cell_type": "markdown",
   "id": "3850f887-5fd2-4a87-85db-b137927e1fdb",
   "metadata": {},
   "source": [
    "# QUESTION 03: Create a Python function called currency_converter() that takes two arguments:\n"
   ]
  },
  {
   "cell_type": "code",
   "execution_count": null,
   "id": "e4614e0c-85b0-4b32-9313-740ed5d8bf1a",
   "metadata": {},
   "outputs": [],
   "source": [
    "# - amount: The amount of money to be converted (in USD).\n",
    "# - exchange_rate (default is 280): The conversion rate from USD to another currency (e.g., PKR). You can assume the default rate \n",
    "# is 1 USD = 280 PKR.\n",
    "\n",
    "# The function should return a message showing how much the given amount is worth in the target currency (PKR)."
   ]
  },
  {
   "cell_type": "code",
   "execution_count": 3,
   "id": "d9b0164c-cbd2-4df0-be7e-9ea275174442",
   "metadata": {},
   "outputs": [
    {
     "name": "stdout",
     "output_type": "stream",
     "text": [
      "The amount:100 USD is equal to:28000 at an exchange\n"
     ]
    }
   ],
   "source": [
    "# Input\n",
    "def currency_converter(amount,exchange_rate=280):\n",
    "    converted_amount=amount*exchange_rate\n",
    "    return f\"The amount:{amount} USD is equal to:{converted_amount} at an exchange\"\n",
    "\n",
    "# Display USD to PKR\n",
    "result=currency_converter(100)\n",
    "print(result)\n",
    "\n",
    "# Output"
   ]
  },
  {
   "cell_type": "markdown",
   "id": "a947efa3-2387-491b-986e-1db81c1d4ea5",
   "metadata": {},
   "source": [
    "# QUESTION 04: Write a Python function display_student_info that accepts the following details about a student:\n"
   ]
  },
  {
   "cell_type": "code",
   "execution_count": null,
   "id": "02d5c800-aa4f-4305-9956-3109cc09317e",
   "metadata": {},
   "outputs": [],
   "source": [
    "# - name (Keyword argument): The name of the student.\n",
    "# - age (Keyword argument): The age of the student.\n",
    "# - grade (Keyword argument): The grade the student is in.\n",
    "# - school (Keyword argument): The name of the school the student attends."
   ]
  },
  {
   "cell_type": "code",
   "execution_count": 76,
   "id": "bcc39b78-8adb-42f8-9d28-e561597dd8f5",
   "metadata": {},
   "outputs": [
    {
     "name": "stdout",
     "output_type": "stream",
     "text": [
      "Student Name:Ateeb\n",
      "Age:13\n",
      "Grade:8th\n",
      "School:NPS\n"
     ]
    }
   ],
   "source": [
    "# Input\n",
    "def display_student_info(name,age,grade,school):\n",
    "    print(f\"Student Name:{name}\")\n",
    "    print(f\"Age:{age}\")\n",
    "    print(f\"Grade:{grade}\")\n",
    "    print(f\"School:{school}\")\n",
    "\n",
    "# Display The Output\n",
    "display_student_info(name=\"Ateeb\",age=13,grade=\"8th\",school=\"NPS\")"
   ]
  },
  {
   "cell_type": "markdown",
   "id": "1abf64e4-da19-4346-be0b-fc76fe725425",
   "metadata": {},
   "source": [
    "# QUESTION 05: Write a Python function calculate_price that accepts two positional arguments:\n"
   ]
  },
  {
   "cell_type": "code",
   "execution_count": null,
   "id": "dde5ee15-e9f3-4121-be6b-df7b098411a7",
   "metadata": {},
   "outputs": [],
   "source": [
    "# - price: The price of a single item.\n",
    "# - quantity: The number of items bought.\n",
    "# - The function should return the total price by multiplying price and quantity."
   ]
  },
  {
   "cell_type": "code",
   "execution_count": 23,
   "id": "cbb3b0b9-444a-4e60-bf7f-c233f8f8fc61",
   "metadata": {},
   "outputs": [
    {
     "name": "stdout",
     "output_type": "stream",
     "text": [
      "200\n"
     ]
    }
   ],
   "source": [
    "# Input\n",
    "def calculate_price(price,quantity):\n",
    "    return price*quantity\n",
    "\n",
    "# Display The Output\n",
    "total=calculate_price(50,4)\n",
    "print(total)"
   ]
  },
  {
   "cell_type": "markdown",
   "id": "e4b57184-4837-48df-abc1-ed0ad06ce948",
   "metadata": {},
   "source": [
    "# QUESTION 06: Write a Python function display_prices that takes a product name and an arbitrary number of keyword arguments representing product prices. The function should display each product and its price."
   ]
  },
  {
   "cell_type": "code",
   "execution_count": null,
   "id": "3ed940bb-de65-4f69-aaeb-ce8d923defeb",
   "metadata": {},
   "outputs": [],
   "source": [
    "# - Product: Laptop\n",
    "# - Amazon: $800\n",
    "# - eBay: $750  \n",
    "#- Walmart: $780"
   ]
  },
  {
   "cell_type": "code",
   "execution_count": 36,
   "id": "fd4b860b-7918-441e-aadf-75a166050688",
   "metadata": {},
   "outputs": [
    {
     "name": "stdout",
     "output_type": "stream",
     "text": [
      "Product:laptop\n",
      "Amazon:$800\n",
      "Ebay:$750\n",
      "Walmart:$780\n"
     ]
    }
   ],
   "source": [
    "# Input\n",
    "def display_price(product,**prices):\n",
    "    print(f\"Product:{product}\")\n",
    "    for store, price in prices.items():\n",
    "        print(f\"{store}:${price}\")\n",
    "\n",
    "# Display the Output\n",
    "display_price(\"laptop\",Amazon=800,Ebay=750,Walmart=780)\n",
    "    "
   ]
  },
  {
   "cell_type": "markdown",
   "id": "b0505ce7-9097-4bb1-94e1-0d8b4d397e24",
   "metadata": {},
   "source": [
    "# QUESTON 07:  Write a Python function find_max that takes any number of numerical arguments and returns the maximum number."
   ]
  },
  {
   "cell_type": "code",
   "execution_count": 39,
   "id": "223fbd63-7d5e-4065-b6a5-da7d92fb7c62",
   "metadata": {},
   "outputs": [
    {
     "name": "stdout",
     "output_type": "stream",
     "text": [
      "80\n"
     ]
    }
   ],
   "source": [
    "# Input\n",
    "def find_max(*args):\n",
    "    return max(args)\n",
    "\n",
    "# Display the Max Number\n",
    "result=find_max(10,20,40,30,80)\n",
    "print(result)\n"
   ]
  },
  {
   "cell_type": "markdown",
   "id": "33dca395-d70b-43aa-80a1-f8a2f8228475",
   "metadata": {},
   "source": [
    "# QUESTION 08: Write a Python function display_info that takes:"
   ]
  },
  {
   "cell_type": "code",
   "execution_count": null,
   "id": "c2814667-c1c9-4a6a-8427-c26e38ff4a22",
   "metadata": {},
   "outputs": [],
   "source": [
    "# - Positional arguments for the name and age of a person.\n",
    "# - Keyword arguments for other personal details like address, phone number, and email."
   ]
  },
  {
   "cell_type": "code",
   "execution_count": 50,
   "id": "a5b34638-f3ab-4a71-900f-dce25e28d41b",
   "metadata": {},
   "outputs": [
    {
     "name": "stdout",
     "output_type": "stream",
     "text": [
      "Name:Alice\n",
      "Age:30\n",
      "Address:123 Main St\n",
      "Phone_number:-8223\n",
      "Email:alice34@gmail.com\n"
     ]
    }
   ],
   "source": [
    "# Input\n",
    "def display_info(name,age,**details):\n",
    "    print(f\"Name:{name}\")\n",
    "    print(f\"Age:{age}\")\n",
    "    for key, value in details.items():\n",
    "        print(f\"{key.capitalize()}:{value}\")\n",
    "\n",
    "# Display Output\n",
    "display_info(\"Alice\",30,Address=\"123 Main St\",Phone_number=123-456-7890,email=\"alice34@gmail.com\")"
   ]
  },
  {
   "cell_type": "markdown",
   "id": "e7b9fcf6-7c65-4681-a72e-f9205ca49775",
   "metadata": {},
   "source": [
    "# QUESTION 09:  Write a Python function calculate_rectangle that accepts the length and width of a rectangle as arguments. Inside this function, create two nested functions:"
   ]
  },
  {
   "cell_type": "code",
   "execution_count": null,
   "id": "3fa684bf-f34e-49e1-ba30-2461130b54a1",
   "metadata": {},
   "outputs": [],
   "source": [
    "# - calculate_area: This function should calculate the area of the rectangle.\n",
    "# - calculate_perimeter: This function should calculate the perimeter of the rectangle.\n",
    "# - The main function should return both the area and the perimeter of the rectangle."
   ]
  },
  {
   "cell_type": "code",
   "execution_count": 61,
   "id": "7a7d7b72-1810-454b-8333-0211caa243af",
   "metadata": {},
   "outputs": [
    {
     "name": "stdout",
     "output_type": "stream",
     "text": [
      "Area:40, Perimeter:26\n"
     ]
    }
   ],
   "source": [
    "# Input\n",
    "def calculate_rectangle(length,width):\n",
    "    def calculate_area():\n",
    "        return length*width\n",
    "\n",
    "    def calculate_perimeter():\n",
    "        return 2*(length+width)\n",
    "\n",
    "    area=calculate_area()\n",
    "    perimeter=calculate_perimeter()\n",
    "    return area,perimeter\n",
    "\n",
    "# Display Output\n",
    "area,perimeter=calculate_rectangle(5,8)\n",
    "print(f\"Area:{area}, Perimeter:{perimeter}\")"
   ]
  },
  {
   "cell_type": "markdown",
   "id": "1daa8894-cf40-410a-b705-cc16ae2e2586",
   "metadata": {},
   "source": [
    "# QUESTION 10: products = [\n",
    "    {\"name\": \"Laptop\", \"price\": 1200, \"in_stock\": True, \"discount\": 0.1},\n",
    "    {\"name\": \"Smartphone\", \"price\": 800, \"in_stock\": False, \"discount\": 0.05},\n",
    "    {\"name\": \"Headphones\", \"price\": 150, \"in_stock\": True, \"discount\": 0.2},\n",
    "    {\"name\": \"Smartwatch\", \"price\": 300, \"in_stock\": True, \"discount\": 0},\n",
    "    {\"name\": \"Keyboard\", \"price\": 100, \"in_stock\": True, \"discount\": 0.15}\n",
    "]"
   ]
  },
  {
   "cell_type": "code",
   "execution_count": null,
   "id": "831baae4-61e8-423f-9dc8-af84b1a03123",
   "metadata": {},
   "outputs": [],
   "source": [
    "#  Get names of in-stock products:\n",
    "#  *Use list comprehension to generate a list of names for the products that are in stock.                                           \n",
    "# - Calculate final prices for in-stock products after discount:\n",
    "# *For products that have a discount, calculate the final price by applying the discount.\n",
    "# *For products with no discount, keep the original price.                                           \n",
    "#- Generate a list of tuples with the product name and its final price.\n",
    "# Example Output:\n",
    "#- In-stock product names: ['Laptop', 'Headphones', 'Smartwatch', 'Keyboard']\n",
    "#- Discounted prices: [('Laptop', 1080.0), ('Headphones', 120.0), ('Smartwatch', 300), ('Keyboard', 85.0)]\n"
   ]
  },
  {
   "cell_type": "code",
   "execution_count": 66,
   "id": "efb04d74-2fd6-455e-9207-4f2e2a0591fe",
   "metadata": {},
   "outputs": [
    {
     "name": "stdout",
     "output_type": "stream",
     "text": [
      "In stock Items ['Laptop', 'Headphones', 'Smartwatch', 'Keyboard']\n",
      "Prices After Discount [('Laptop', 1080.0), ('Headphones', 120.0), ('Smartwatch', 300), ('Keyboard', 85.0)]\n"
     ]
    }
   ],
   "source": [
    "# Input\n",
    "products=[\n",
    "    {\"name\": \"Laptop\", \"price\": 1200, \"in_stock\": True, \"discount\": 0.1},\n",
    "    {\"name\": \"Smartphone\", \"price\": 800, \"in_stock\": False, \"discount\": 0.05},\n",
    "    {\"name\": \"Headphones\", \"price\": 150, \"in_stock\": True, \"discount\": 0.2},\n",
    "    {\"name\": \"Smartwatch\", \"price\": 300, \"in_stock\": True, \"discount\": 0},\n",
    "    {\"name\": \"Keyboard\", \"price\": 100, \"in_stock\": True, \"discount\": 0.15}\n",
    "]\n",
    "\n",
    "# Get information about the in stock products\n",
    "in_stock_names=[product[\"name\"]for product in products if product[\"in_stock\"]]\n",
    "\n",
    "# Calculate final price after discount\n",
    "discounted_price=[\n",
    "    (product[\"name\"],product[\"price\"]* (1 - product[\"discount\"]) if product[\"discount\"]> 0 else product[\"price\"])\n",
    "    for product in products if product[\"in_stock\"]\n",
    "]\n",
    "\n",
    "# Display The Output\n",
    "print(\"In stock Items\",in_stock_names)\n",
    "print(\"Prices After Discount\",discounted_price)\n",
    "                "
   ]
  }
 ],
 "metadata": {
  "kernelspec": {
   "display_name": "Python 3 (ipykernel)",
   "language": "python",
   "name": "python3"
  },
  "language_info": {
   "codemirror_mode": {
    "name": "ipython",
    "version": 3
   },
   "file_extension": ".py",
   "mimetype": "text/x-python",
   "name": "python",
   "nbconvert_exporter": "python",
   "pygments_lexer": "ipython3",
   "version": "3.12.7"
  }
 },
 "nbformat": 4,
 "nbformat_minor": 5
}
