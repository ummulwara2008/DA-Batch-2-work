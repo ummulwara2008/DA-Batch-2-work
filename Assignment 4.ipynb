{
 "cells": [
  {
   "cell_type": "markdown",
   "id": "6d1e9c93-d92f-41b1-b0ea-cab27e1dab66",
   "metadata": {},
   "source": [
    "# QUESTION 01: my_tuple = ( (1, 2, 3), [4, 5, 6], (&#39;apple&#39;, &#39;banana&#39;, &#39;cherry&#39;), [7, 8, 9] )"
   ]
  },
  {
   "cell_type": "code",
   "execution_count": null,
   "id": "6d7ed3b4-66de-4265-a1ca-118b412a8980",
   "metadata": {},
   "outputs": [],
   "source": [
    "# Print all elements from my_tuple on a new line (using for loop)\n",
    "# Create a new tuple by concatenating the first and last elements of my_tuple"
   ]
  },
  {
   "cell_type": "code",
   "execution_count": 26,
   "id": "937c07dd-cef3-41b5-87f1-7c92bfc8104d",
   "metadata": {},
   "outputs": [
    {
     "name": "stdout",
     "output_type": "stream",
     "text": [
      "(1, 2, 3)\n",
      "[4, 5, 6]\n",
      "('apple', 'banana', 'cherry')\n",
      "[7, 8, 9]\n",
      "(1, 2, 3, 7, 8, 9)\n"
     ]
    }
   ],
   "source": [
    "# Input\n",
    "my_tuple=((1,2,3),[4,5,6,],(\"apple\",\"banana\",\"cherry\"),[7,8,9])\n",
    "\n",
    "# Print using for loop\n",
    "for element in my_tuple:\n",
    "    print(element)\n",
    "\n",
    "# Print first and last element in a tuple\n",
    "new_tuple=my_tuple[0]+tuple(my_tuple[-1])\n",
    "print(new_tuple)"
   ]
  },
  {
   "cell_type": "markdown",
   "id": "f6c4691a-135c-4de9-bb53-1a430386a92c",
   "metadata": {},
   "source": [
    "# QUESTION 02:inventory = { &quot;The Great Gatsby&quot;: {&quot;price&quot;: 10.99, &quot;quantity&quot;: 5}, &quot;Rich dad poor dad&quot;: {&quot;price&quot;:8.99, &quot;quantity&quot;: 8}, &quot;Harry Potter&quot;: {&quot;price&quot;: 12.50, &quot;quantity&quot;: 2}, }"
   ]
  },
  {
   "cell_type": "code",
   "execution_count": null,
   "id": "5ef35689-1b77-40ce-a4b1-2a28656c2c6a",
   "metadata": {},
   "outputs": [],
   "source": [
    "# Add a new book in inventory using method and get all book titles using method\n",
    "# Remove a book if it&#39;s out of stock"
   ]
  },
  {
   "cell_type": "code",
   "execution_count": 77,
   "id": "668f3fe5-819e-4fa5-82d9-e1eaeb7cc2ec",
   "metadata": {},
   "outputs": [
    {
     "name": "stdout",
     "output_type": "stream",
     "text": [
      "Book TitlesThe Great Gatsby\n",
      "Price:10.99\n",
      "Quantity:5\n",
      "\n",
      "Book TitlesRich dad poor dad\n",
      "Price:8.99\n",
      "Quantity:8\n",
      "\n",
      "Book TitlesHarry Potter\n",
      "Price:12.5\n",
      "Quantity:2\n",
      "\n",
      "Book TitlesTo Kill a Mockingbird\n",
      "Price:18.99\n",
      "Quantity:5\n",
      "\n",
      "{'The Great Gatsby': {'price': 10.99, 'quantity': 5}, 'Rich dad poor dad': {'price': 8.99, 'quantity': 8}, 'Harry Potter': {'price': 12.5, 'quantity': 2}, 'To Kill a Mockingbird': {'price': 18.99, 'quantity': 5}}\n"
     ]
    }
   ],
   "source": [
    "# Input\n",
    "inventory={\n",
    "         \"The Great Gatsby\":{\"price\":10.99,\"quantity\":5},\n",
    "        \"Rich dad poor dad\":{\"price\":8.99,\"quantity\":8},\n",
    "        \"Harry Potter\":{\"price\":12.50,\"quantity\":2}\n",
    "        }\n",
    "\n",
    "# Add a New book\n",
    "inventory[\"To Kill a Mockingbird\"]={\"price\":18.99,\"quantity\":5}\n",
    "\n",
    "# Display all Book Titles\n",
    "book_titles=list(inventory.keys())\n",
    "\n",
    "# Loop to remove out of stock books\n",
    "for book in list(inventory):\n",
    "    if inventory[book]['quantity']==0:\n",
    "        del inventory[book]\n",
    "\n",
    "# Display the Output\n",
    "for books_titles,details in inventory.items():\n",
    "    print(f\"Book Titles{books_titles}\")\n",
    "    for key,values in details.items():\n",
    "        print(f\"{key.capitalize()}:{values}\")\n",
    "    print()\n",
    "    \n",
    "# Print as a dictionary\n",
    "print (inventory)"
   ]
  },
  {
   "cell_type": "markdown",
   "id": "e670088c-dde0-42bd-a14f-0941f3d1d471",
   "metadata": {},
   "source": [
    "# QUESTION 03: An ecommerce store stores information about its products in a nested dictionary. The outer dictionary uses product IDs as keys, and the inner dictionary stores product details like name, category, price, and stock quantity."
   ]
  },
  {
   "cell_type": "code",
   "execution_count": null,
   "id": "58b70ac6-cbea-41f0-8b01-175dc72f6c47",
   "metadata": {},
   "outputs": [],
   "source": [
    "# products = { 101: {\"name\": \"Laptop\",\"category\": \"Electronics\", \"price\": 1200,\"stock\": 50}, 102:\n",
    "# {\"name\":\"Shirt\",\"category\":\"Apparel\",\"price\": 25, \"stock\": 200}, 103: {\"name\": \"Coffee Maker\",\n",
    "# \"category\":\"Home Appliances\", \"price\": 80, \"stock\": 30} }"
   ]
  },
  {
   "cell_type": "code",
   "execution_count": null,
   "id": "3bfac118-8738-4606-a24c-24e388dea556",
   "metadata": {},
   "outputs": [],
   "source": [
    "# Increase the stock of the \"Shirt\" product (add 50 more units)\n",
    "# Add a new product (e.g.,\"Smartphone\")"
   ]
  },
  {
   "cell_type": "code",
   "execution_count": 65,
   "id": "16c8bf2a-e0a8-4f32-86c1-d12446bef506",
   "metadata": {},
   "outputs": [
    {
     "name": "stdout",
     "output_type": "stream",
     "text": [
      "Product ID:101\n",
      "Name:Laptop\n",
      "Category:Electronics\n",
      "Price:250\n",
      "Stock:20\n",
      "\n",
      "Product ID:102\n",
      "Name:Shirt\n",
      "Category:Apperals\n",
      "Price:25\n",
      "Stock:90\n",
      "\n",
      "Product ID:103\n",
      "Name:Ring\n",
      "Category:Jewllery\n",
      "Price:1500\n",
      "Stock:10\n",
      "\n",
      "Product ID:104\n",
      "Name:Smartphone\n",
      "Category:Electronics\n",
      "Price:600\n",
      "Stock:30\n",
      "\n",
      "{101: {'Name': 'Laptop', 'Category': 'Electronics', 'Price': 250, 'Stock': 20}, 102: {'Name': 'Shirt', 'Category': 'Apperals', 'Price': 25, 'Stock': 90}, 103: {'Name': 'Ring', 'Category': 'Jewllery', 'Price': 1500, 'Stock': 10}, 104: {'Name': 'Smartphone', 'Category': 'Electronics', 'Price': 600, 'Stock': 30}}\n"
     ]
    }
   ],
   "source": [
    "# Input\n",
    "products={\n",
    "    101:{\"Name\":\"Laptop\",\"Category\":\"Electronics\",\"Price\":250,\"Stock\":20},\n",
    "    102:{\"Name\":\"Shirt\",\"Category\":\"Apperals\",\"Price\":25,\"Stock\":40},\n",
    "    103:{\"Name\":\"Ring\",\"Category\":\"Jewllery\",\"Price\":1500,\"Stock\":10}\n",
    "}\n",
    "\n",
    "# Now Increase ths stock of shirts by 50\n",
    "products[102][\"Stock\"]+=50\n",
    "\n",
    "# Add a new product in category\n",
    "products[104]={\"Name\":\"Smartphone\",\"Category\":\"Electronics\",\"Price\":600,\"Stock\":30}\n",
    "\n",
    "# print the Output\n",
    "for products_id,details in products.items():\n",
    "    print(f\"Product ID:{products_id}\")\n",
    "    for key,values in details.items():\n",
    "        print(f\"{key.capitalize()}:{values}\")\n",
    "    print()\n",
    "\n",
    "# Print as a dictionary\n",
    "print(products)"
   ]
  },
  {
   "cell_type": "markdown",
   "id": "4e1b1275-849c-4ed4-9848-b654d3f39c5e",
   "metadata": {},
   "source": [
    "# QUESTION 04: You are given a list that contains some duplicate items. Remove the duplicates by converting the list to a set."
   ]
  },
  {
   "cell_type": "code",
   "execution_count": null,
   "id": "a2b4fe95-d639-4412-8aaf-d080da4c5298",
   "metadata": {},
   "outputs": [],
   "source": [
    "# shopping_list = [\"apple\", \"banana\", \"apple\", \"orange\", \"banana\", \"grape\"]"
   ]
  },
  {
   "cell_type": "code",
   "execution_count": 84,
   "id": "7791042e-7207-4705-9885-56ad3d3d1a89",
   "metadata": {},
   "outputs": [
    {
     "name": "stdout",
     "output_type": "stream",
     "text": [
      "{'orange', 'banana', 'grapes', 'apple'}\n"
     ]
    }
   ],
   "source": [
    "# Input\n",
    "shopping_list=[\"apple\",\"banana\",\"apple\",\"orange\",\"banana\",\"grapes\"]\n",
    "\n",
    "# Convert list to set\n",
    "unique_items=set(shopping_list)\n",
    "\n",
    "# Output\n",
    "print(unique_items)"
   ]
  },
  {
   "cell_type": "markdown",
   "id": "73c94a61-1972-4833-8e56-6e7a2bf380ec",
   "metadata": {},
   "source": [
    "# QUESTION 05: You are managing a list of students enrolled in two different courses. You need to perform various set operations to understand the student enrollment. Task: Create two sets: one for students in &quot;Course A&quot; and one for students in &quot;Course B&quot;. Find the students who are in &quot;Course A&quot; but not in &quot;Course B&quot; (difference). Find students who are only in one of the two courses (symmetric difference). course_a = {&quot;John&quot;, &quot;Alice&quot;, &quot;Bob&quot;, &quot;David&quot;} course_b = {&quot;Alice&quot;, &quot;Eve&quot;, &quot;Charlie&quot;, &quot;David&quot;}"
   ]
  },
  {
   "cell_type": "code",
   "execution_count": null,
   "id": "70f9a567-3eb6-4df8-bd85-78208a323d7c",
   "metadata": {},
   "outputs": [],
   "source": [
    "# Find students who are in Course A but not in Course B (difference)"
   ]
  },
  {
   "cell_type": "code",
   "execution_count": 95,
   "id": "cd064642-66a5-4356-ac56-c14fea632096",
   "metadata": {},
   "outputs": [
    {
     "name": "stdout",
     "output_type": "stream",
     "text": [
      "Students In Course A But Not In Course B: {'Bob', 'John'}\n",
      "Students In Either Courses But Not Both: {'Eve', 'Charlie', 'John', 'Bob'}\n"
     ]
    }
   ],
   "source": [
    "# Input\n",
    "course_a={\"John\",\"Alice\",\"Bob\",\"David\"}\n",
    "course_b={\"Alice\",\"Eve\",\"Charlie\",\"David\"}\n",
    "\n",
    "# Checking students in course A but not in course B  (difference)\n",
    "students_in_course_a_but_not_b=course_a - course_b\n",
    "\n",
    "# Checking students who are in only one of the courses  (symemetric difference)\n",
    "students_in_either_course_not_both=course_a ^ course_b\n",
    "\n",
    "# Print Output\n",
    "print(\"Students In Course A But Not In Course B:\",students_in_course_a_but_not_b)\n",
    "print(\"Students In Either Courses But Not Both:\",students_in_either_course_not_both)"
   ]
  },
  {
   "cell_type": "markdown",
   "id": "8381295d-812a-48b8-a8ec-5b7ec5ef5f5a",
   "metadata": {},
   "source": [
    "# QUESTION 06: Write a Python program that calculates the sum of all even numbers between 1 and 50 (inclusive) using a for loop."
   ]
  },
  {
   "cell_type": "code",
   "execution_count": null,
   "id": "c88d6008-cb18-4753-b4c0-c15039bfdc7b",
   "metadata": {},
   "outputs": [],
   "source": [
    "# Hint\n",
    "# 1. Initialize a variable to hold the sum (e.g., sum_of_evens).\n",
    "# 2. Use a for loop to iterate through all numbers from 1 to 50.\n",
    "# 3. Inside the loop, check if the number is even.\n",
    "# 4. If the number is even, add it to sum_of_evens.\n",
    "# 5. After the loop finishes, print the total sum of all even numbers between 1 and 50."
   ]
  },
  {
   "cell_type": "code",
   "execution_count": 107,
   "id": "3074d9e7-95f0-4a5b-9513-ac9f90679c51",
   "metadata": {},
   "outputs": [
    {
     "name": "stdout",
     "output_type": "stream",
     "text": [
      "Even Numbers: [2, 4, 6, 8, 10, 12, 14, 16, 18, 20, 22, 24, 26, 28, 30, 32, 34, 36, 38, 40, 42, 44, 46, 48, 50]\n",
      "Sum Of Even Numbers From 1 to 50: 650\n"
     ]
    }
   ],
   "source": [
    "# Input\n",
    "sum_of_evens=0\n",
    "even_numbers=[]\n",
    "\n",
    "# Use for loop to iterate all numbers from 1 to 50\n",
    "for numbers in range(1,51): # Range on numbers\n",
    "    if numbers%2==0: # Find even numbers\n",
    "        even_numbers.append(numbers) # Even Numbers\n",
    "        sum_of_evens+=numbers  # Add all the numbers\n",
    "\n",
    "# Print the sum of all even numbers from 1 to 50\n",
    "print(\"Even Numbers:\",even_numbers)  # Display list of even numbers\n",
    "print(\"Sum Of Even Numbers From 1 to 50:\",sum_of_evens)"
   ]
  },
  {
   "cell_type": "markdown",
   "id": "501b8624-778a-4516-8667-6832a05c4df9",
   "metadata": {},
   "source": [
    "# QUESTION 07: Write a Python program that prints the multiplication table for a given number (between 1 and 10) using a for loop."
   ]
  },
  {
   "cell_type": "code",
   "execution_count": null,
   "id": "7deb892b-f07d-47ec-8191-9d09cdb95031",
   "metadata": {},
   "outputs": [],
   "source": [
    "# Hint:\n",
    "# 1. Ask the user for a number between 1 and 10 .\n",
    "# 2. Use a for loop to iterate through the numbers from 1 to 10.\n",
    "# 3. For each iteration, calculate the product of the given number and the current number in the loop.\n",
    "# 4. Print the result in a readable format (e.g., 5 x 1 = 5).\n",
    "# 5. Ensure the program works correctly for any number between 1 and 10."
   ]
  },
  {
   "cell_type": "code",
   "execution_count": 3,
   "id": "b80ad8b2-12bc-4cfd-8e42-324c2af0cda0",
   "metadata": {},
   "outputs": [
    {
     "name": "stdin",
     "output_type": "stream",
     "text": [
      "Enter A Number Between 1 to 10: 3\n"
     ]
    },
    {
     "name": "stdout",
     "output_type": "stream",
     "text": [
      "3x1=3\n",
      "3x2=6\n",
      "3x3=9\n",
      "3x4=12\n",
      "3x5=15\n",
      "3x6=18\n",
      "3x7=21\n",
      "3x8=24\n",
      "3x9=27\n",
      "3x10=30\n"
     ]
    }
   ],
   "source": [
    "# Input\n",
    "number=int(input(\"Enter A Number Between 1 to 10:\"))\n",
    "\n",
    "# Check if the number is between 1 to 10\n",
    "if 1<= number <=10:\n",
    "\n",
    "# Use for loop to generate table\n",
    "    for i in range(1,11):\n",
    "        product=number*i\n",
    "        print(f\"{number}x{i}={product}\")\n",
    "else:\n",
    "    print(\"Number is out of range\")\n"
   ]
  },
  {
   "cell_type": "markdown",
   "id": "3a9e9abe-24c1-4dc8-9337-0ad7eb1fae0f",
   "metadata": {},
   "source": [
    "# QUESTION 08: Power of a Number Write a Python program that takes a number and prints the powers of the number (starting from 1 to 10) using a while loop. For example, if the user inputs 3, the output should be:"
   ]
  },
  {
   "cell_type": "code",
   "execution_count": 9,
   "id": "a1a0e461-f600-4882-9026-5df924d735b5",
   "metadata": {},
   "outputs": [
    {
     "name": "stdin",
     "output_type": "stream",
     "text": [
      "Enter A Number Between 1 to 10: 7\n"
     ]
    },
    {
     "name": "stdout",
     "output_type": "stream",
     "text": [
      "7^1=7\n",
      "7^2=49\n",
      "7^3=343\n",
      "7^4=2401\n",
      "7^5=16807\n",
      "7^6=117649\n",
      "7^7=823543\n",
      "7^8=5764801\n",
      "7^9=40353607\n",
      "7^10=282475249\n"
     ]
    }
   ],
   "source": [
    "# Input\n",
    "number=int(input(\"Enter A Number Between 1 to 10:\"))\n",
    "\n",
    "# Initialize expoenet power\n",
    "exponent=1\n",
    "\n",
    "# Use while loop to print power of a number\n",
    "while exponent<=10:\n",
    "    result=number**exponent\n",
    "    print(f\"{number}^{exponent}={result}\")\n",
    "    exponent+=1"
   ]
  },
  {
   "cell_type": "markdown",
   "id": "5f47b954-bd9a-4cf1-83be-a066271c47de",
   "metadata": {},
   "source": [
    "# QUESTION 09: Problem Statement: Write a Python program that takes an integer input from the user and counts down from that number to 0. The program should display the current number at each step until it reaches 0, at which point it should print a message indicating the countdown is finished"
   ]
  },
  {
   "cell_type": "code",
   "execution_count": 1,
   "id": "fa9bde20-c4d0-4bbe-b970-e1054bc40282",
   "metadata": {},
   "outputs": [
    {
     "name": "stdin",
     "output_type": "stream",
     "text": [
      "Enter A Number: 4\n"
     ]
    },
    {
     "name": "stdout",
     "output_type": "stream",
     "text": [
      "4\n",
      "3\n",
      "2\n",
      "1\n",
      "0\n",
      "Count Down Finished\n"
     ]
    }
   ],
   "source": [
    "# Input\n",
    "integer=int(input(\"Enter A Number:\"))\n",
    "\n",
    "# Use while loop \n",
    "while integer >=0:\n",
    "    print(integer)\n",
    "    integer-=1\n",
    "\n",
    "# Print Output\n",
    "print(\"Count Down Finished\")"
   ]
  },
  {
   "cell_type": "markdown",
   "id": "e699fef0-48c2-4662-8959-27740a22deb9",
   "metadata": {},
   "source": [
    "# QUESTION 10: Write a Python program that takes an integer input n from the user and generates a right-angled triangle pattern of stars (*) with n rows. The first row should contain 1 star, the second row 2 stars, the third row 3 stars, and so on until the nth row."
   ]
  },
  {
   "cell_type": "code",
   "execution_count": null,
   "id": "19ac6bcd-c6c5-4df2-b557-830c6c287968",
   "metadata": {},
   "outputs": [],
   "source": [
    "# Ensure the stars in each row are separated by spaces, and each row starts on a new line."
   ]
  },
  {
   "cell_type": "code",
   "execution_count": 13,
   "id": "53587ca4-c7ce-4f1b-a811-c4dc42afd527",
   "metadata": {},
   "outputs": [
    {
     "name": "stdin",
     "output_type": "stream",
     "text": [
      "Enter A Number: 6\n"
     ]
    },
    {
     "name": "stdout",
     "output_type": "stream",
     "text": [
      "*\n",
      "* *\n",
      "* * *\n",
      "* * * *\n",
      "* * * * *\n",
      "* * * * * *\n"
     ]
    }
   ],
   "source": [
    "# Input\n",
    "number=int(input(\"Enter A Number:\"))\n",
    "\n",
    "# Use for loop to generate * on each line\n",
    "for i in range(1,number+1):\n",
    "\n",
    "# Print (*) for the given number of rows\n",
    "    print(\" \".join([\"*\"]*i))"
   ]
  },
  {
   "cell_type": "code",
   "execution_count": null,
   "id": "13b90ce3-73c7-48ce-841e-6d494124937d",
   "metadata": {},
   "outputs": [],
   "source": []
  }
 ],
 "metadata": {
  "kernelspec": {
   "display_name": "Python 3 (ipykernel)",
   "language": "python",
   "name": "python3"
  },
  "language_info": {
   "codemirror_mode": {
    "name": "ipython",
    "version": 3
   },
   "file_extension": ".py",
   "mimetype": "text/x-python",
   "name": "python",
   "nbconvert_exporter": "python",
   "pygments_lexer": "ipython3",
   "version": "3.12.7"
  }
 },
 "nbformat": 4,
 "nbformat_minor": 5
}
