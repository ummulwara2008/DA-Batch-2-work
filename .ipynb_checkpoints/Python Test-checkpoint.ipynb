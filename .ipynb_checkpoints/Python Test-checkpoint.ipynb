{
 "cells": [
  {
   "cell_type": "markdown",
   "id": "7d2fb476-d220-439f-96a4-d0cbe9245053",
   "metadata": {},
   "source": [
    "# MAKE A QUIZ OF MCQS AND GIVE A SCORING AT THE END BASED ON THE ANSWERS:"
   ]
  },
  {
   "cell_type": "code",
   "execution_count": 71,
   "id": "dea42308-48c6-46da-a6aa-3302c8578f63",
   "metadata": {},
   "outputs": [
    {
     "name": "stdout",
     "output_type": "stream",
     "text": [
      "USE LOWER CASE:\n",
      "Question 1: What Is Python?\n",
      "a) Snake\n",
      "b) Programming Language\n",
      "c) A Device\n",
      "d) None Of The Above\n"
     ]
    },
    {
     "name": "stdin",
     "output_type": "stream",
     "text": [
      "Your answer (a/b/c/d):  b\n"
     ]
    },
    {
     "name": "stdout",
     "output_type": "stream",
     "text": [
      "Correct!\n",
      "\n",
      "Question 2: Which One Of This Is Not A Logical Operator?\n",
      "a) and\n",
      "b) or\n",
      "c) for\n",
      "d) not\n"
     ]
    },
    {
     "name": "stdin",
     "output_type": "stream",
     "text": [
      "Your answer (a/b/c/d):  c\n"
     ]
    },
    {
     "name": "stdout",
     "output_type": "stream",
     "text": [
      "Correct!\n",
      "\n",
      "Question 3: When Did Pakistan Come Into Being?\n",
      "a) 1832\n",
      "b) 1985\n",
      "c) 1747\n",
      "d) 1947\n"
     ]
    },
    {
     "name": "stdin",
     "output_type": "stream",
     "text": [
      "Your answer (a/b/c/d):  d\n"
     ]
    },
    {
     "name": "stdout",
     "output_type": "stream",
     "text": [
      "Correct!\n",
      "\n",
      "Question 4: Who Is The Founder Of Tesla?\n",
      "a) Elon Musk\n",
      "b) Mark Zuckerberg\n",
      "c) Bill Gates\n",
      "d) Jeff Bezos\n"
     ]
    },
    {
     "name": "stdin",
     "output_type": "stream",
     "text": [
      "Your answer (a/b/c/d):  a\n"
     ]
    },
    {
     "name": "stdout",
     "output_type": "stream",
     "text": [
      "Correct!\n",
      "\n",
      "Question 5: Which One Of These Is Not A Programming Language?\n",
      "a) Java\n",
      "b) English\n",
      "c) Python\n",
      "d) C++\n"
     ]
    },
    {
     "name": "stdin",
     "output_type": "stream",
     "text": [
      "Your answer (a/b/c/d):  b\n"
     ]
    },
    {
     "name": "stdout",
     "output_type": "stream",
     "text": [
      "Correct!\n",
      "\n",
      "Question 6: Which One Of These Is A Multiple Of 5?\n",
      "a) 22\n",
      "b) 38\n",
      "c) 55\n",
      "d) 74\n"
     ]
    },
    {
     "name": "stdin",
     "output_type": "stream",
     "text": [
      "Your answer (a/b/c/d):  c\n"
     ]
    },
    {
     "name": "stdout",
     "output_type": "stream",
     "text": [
      "Correct!\n",
      "\n",
      "Question 7: Who Is The First President Of Pakistan?\n",
      "a) Liaquat Ali Khan\n",
      "b) Zulfikar Ali Bhutto\n",
      "c) Iskander Mirza\n",
      "d) Quaid-e-Azam\n"
     ]
    },
    {
     "name": "stdin",
     "output_type": "stream",
     "text": [
      "Your answer (a/b/c/d):  c\n"
     ]
    },
    {
     "name": "stdout",
     "output_type": "stream",
     "text": [
      "Correct!\n",
      "\n",
      "Question 8: Where is Gwadar Port Located?\n",
      "a) Karachi\n",
      "b) Lahore\n",
      "c) Peshawar\n",
      "d) Kashmir\n"
     ]
    },
    {
     "name": "stdin",
     "output_type": "stream",
     "text": [
      "Your answer (a/b/c/d):  a\n"
     ]
    },
    {
     "name": "stdout",
     "output_type": "stream",
     "text": [
      "Correct!\n",
      "\n",
      "Question 9: Which Planet Is Known As The Red Planet?\n",
      "a) Jupiter\n",
      "b) Mercury\n",
      "c) Earth\n",
      "d) Mars\n"
     ]
    },
    {
     "name": "stdin",
     "output_type": "stream",
     "text": [
      "Your answer (a/b/c/d):  d\n"
     ]
    },
    {
     "name": "stdout",
     "output_type": "stream",
     "text": [
      "Correct!\n",
      "\n",
      "Question 10: What Is The Capital Of Japan?\n",
      "a) Seoul\n",
      "b) Tokyo\n",
      "c) Islamabad\n",
      "d) California\n"
     ]
    },
    {
     "name": "stdin",
     "output_type": "stream",
     "text": [
      "Your answer (a/b/c/d):  b\n"
     ]
    },
    {
     "name": "stdout",
     "output_type": "stream",
     "text": [
      "Correct!\n",
      "\n",
      "Your final score is 10 out of 10\n"
     ]
    }
   ],
   "source": [
    "# Input:\n",
    "# Give Questions by using dictionary in tuple\n",
    "questions = [\n",
    "    {\"question\": \"What Is Python?\",  \n",
    "     \"options\": [\"a) Snake\", \"b) Programming Language\", \"c) A Device\", \"d) None Of The Above\"],\n",
    "     \"answer\": \"b\"\n",
    "    },\n",
    "\n",
    "    {\"question\": \"Which One Of This Is Not A Logical Operator?\",  \n",
    "     \"options\": [\"a) and\", \"b) or\", \"c) for\", \"d) not\"],\n",
    "     \"answer\": \"c\"\n",
    "    },\n",
    "\n",
    "    {\"question\": \"When Did Pakistan Come Into Being?\",  \n",
    "     \"options\": [\"a) 1832\", \"b) 1985\", \"c) 1747\", \"d) 1947\"],\n",
    "     \"answer\": \"d\"\n",
    "    },\n",
    "\n",
    "    {\"question\": \"Who Is The Founder Of Tesla?\", \n",
    "     \"options\": [\"a) Elon Musk\", \"b) Mark Zuckerberg\", \"c) Bill Gates\", \"d) Jeff Bezos\"],\n",
    "     \"answer\": \"a\"\n",
    "    },\n",
    "\n",
    "    {\"question\": \"Which One Of These Is Not A Programming Language?\",  \n",
    "     \"options\": [\"a) Java\", \"b) English\", \"c) Python\", \"d) C++\"],\n",
    "     \"answer\": \"b\"\n",
    "    },\n",
    "\n",
    "    {\"question\": \"Which One Of These Is A Multiple Of 5?\",  \n",
    "     \"options\": [\"a) 22\", \"b) 38\", \"c) 55\", \"d) 74\"],\n",
    "     \"answer\": \"c\"\n",
    "    },\n",
    "\n",
    "    {\"question\": \"Who Is The First President Of Pakistan?\",  \n",
    "     \"options\": [\"a) Liaquat Ali Khan\", \"b) Zulfikar Ali Bhutto\", \"c) Iskander Mirza\", \"d) Quaid-e-Azam\"],\n",
    "     \"answer\": \"c\"\n",
    "    },\n",
    "\n",
    "    {\"question\": \"Where is Gwadar Port Located?\",  \n",
    "     \"options\": [\"a) Karachi\", \"b) Lahore\", \"c) Peshawar\", \"d) Kashmir\"],\n",
    "     \"answer\": \"a\"\n",
    "    },\n",
    "\n",
    "    {\"question\": \"Which Planet Is Known As The Red Planet?\",  \n",
    "     \"options\": [\"a) Jupiter\", \"b) Mercury\", \"c) Earth\", \"d) Mars\"],\n",
    "     \"answer\": \"d\"\n",
    "    },\n",
    "\n",
    "    {\"question\": \"What Is The Capital Of Japan?\",  \n",
    "     \"options\": [\"a) Seoul\", \"b) Tokyo\", \"c) Islamabad\", \"d) California\"],\n",
    "     \"answer\": \"b\"\n",
    "    }\n",
    "]\n",
    "print(\"USE LOWER CASE:\")\n",
    "# Function to run the quiz\n",
    "def run_quiz():  \n",
    "    score = 0  # score\n",
    "\n",
    "   \n",
    "    for i, question in enumerate(questions):  \n",
    "        print(f\"Question {i + 1}: {question['question']}\")\n",
    "\n",
    "        # Print the options\n",
    "        for option in question['options']:  \n",
    "            print(option)\n",
    "\n",
    "        # user answer\n",
    "        answer = input(\"Your answer (a/b/c/d): \").strip().lower()\n",
    "\n",
    "        #  Using if-else conditions\n",
    "        if answer == \"a\":  \n",
    "            if question['answer'] == \"a\":  \n",
    "                print(\"Correct!\\n\")\n",
    "                score += 1\n",
    "            else:\n",
    "                print(f\"Incorrect. The correct answer is {question['answer']}.\\n\")\n",
    "        elif answer == \"b\":  \n",
    "            if question['answer'] == \"b\": \n",
    "                print(\"Correct!\\n\")\n",
    "                score += 1\n",
    "            else:\n",
    "                print(f\"Incorrect. The correct answer is {question['answer']}.\\n\")\n",
    "        elif answer == \"c\":  \n",
    "            if question['answer'] == \"c\":  \n",
    "                print(\"Correct!\\n\")\n",
    "                score += 1\n",
    "            else:\n",
    "                print(f\"Incorrect. The correct answer is {question['answer']}.\\n\")\n",
    "        elif answer == \"d\":  \n",
    "            if question['answer'] == \"d\":  \n",
    "                print(\"Correct!\\n\")\n",
    "                score += 1\n",
    "            else:\n",
    "                print(f\"Incorrect. The correct answer is {question['answer']}.\\n\")\n",
    "        else:  # Level 3\n",
    "            print(\"Invalid input. Please choose a, b, c, or d.\\n\")\n",
    "\n",
    "    # Print final score after the quiz\n",
    "    print(f\"Your final score is {score} out of {len(questions)}\")\n",
    "\n",
    "# Run the quiz\n",
    "if __name__ == \"__main__\":  \n",
    "    run_quiz()  \n",
    "# Display Output"
   ]
  },
  {
   "cell_type": "code",
   "execution_count": null,
   "id": "4c4282c1-1d3b-421d-a0b2-b836895b9331",
   "metadata": {},
   "outputs": [],
   "source": []
  }
 ],
 "metadata": {
  "kernelspec": {
   "display_name": "Python 3 (ipykernel)",
   "language": "python",
   "name": "python3"
  },
  "language_info": {
   "codemirror_mode": {
    "name": "ipython",
    "version": 3
   },
   "file_extension": ".py",
   "mimetype": "text/x-python",
   "name": "python",
   "nbconvert_exporter": "python",
   "pygments_lexer": "ipython3",
   "version": "3.12.7"
  }
 },
 "nbformat": 4,
 "nbformat_minor": 5
}
