{
 "cells": [
  {
   "cell_type": "markdown",
   "id": "25bdfbce-7b19-47c4-88c3-4966bb8efce9",
   "metadata": {},
   "source": [
    "## IF ELSE/ ELIF CONDITIONS:"
   ]
  },
  {
   "cell_type": "code",
   "execution_count": 31,
   "id": "cdbd34d4-a4b2-45d4-bc04-1f498d459fa2",
   "metadata": {},
   "outputs": [
    {
     "name": "stdin",
     "output_type": "stream",
     "text": [
      "enter number: 6\n"
     ]
    },
    {
     "name": "stdout",
     "output_type": "stream",
     "text": [
      "number is even\n"
     ]
    }
   ],
   "source": [
    "#check if number writen by user is even or odd\n",
    "num=int(input(\"enter number:\"))\n",
    "rem=num%2\n",
    "\n",
    "if (num%2==0):\n",
    "    print(\"number is even\")\n",
    "else:\n",
    "    print(\"number is odd\")"
   ]
  },
  {
   "cell_type": "code",
   "execution_count": 35,
   "id": "1fd47894-4e24-42ae-9122-08dc518db564",
   "metadata": {},
   "outputs": [
    {
     "name": "stdin",
     "output_type": "stream",
     "text": [
      "enter number: 10\n"
     ]
    },
    {
     "name": "stdout",
     "output_type": "stream",
     "text": [
      "it is multiple of 5\n"
     ]
    }
   ],
   "source": [
    "#check if number is multiple of 5 or not\n",
    "num=int(input(\"enter number:\"))\n",
    "rem+num%5\n",
    "\n",
    "if (num%5==0):\n",
    "    print(\"it is multiple of 5\")\n",
    "else:\n",
    "    print(\"it is not multiple of 5\")"
   ]
  },
  {
   "cell_type": "code",
   "execution_count": 43,
   "id": "27dd0341-144c-4875-8601-66c1c0556878",
   "metadata": {},
   "outputs": [
    {
     "name": "stdin",
     "output_type": "stream",
     "text": [
      "enter number: 1\n",
      "enter number: 2\n",
      "enter number: 2\n"
     ]
    },
    {
     "name": "stdout",
     "output_type": "stream",
     "text": [
      "try again\n"
     ]
    }
   ],
   "source": [
    "#check which number is greater by 3 provided number by user\n",
    "x=int(input(\"enter number:\"))\n",
    "y=int(input(\"enter number:\"))\n",
    "z=int(input(\"enter number:\"))\n",
    "\n",
    "if(x>=3):\n",
    "    print(\"it is greater\")\n",
    "elif(y>=3):\n",
    "    print(\"it is greater\")\n",
    "elif(z>=3):\n",
    "    print(\"it is greater\")\n",
    "else:\n",
    "    print(\"try again\")\n"
   ]
  },
  {
   "cell_type": "code",
   "execution_count": null,
   "id": "b124495f-23d9-4f5f-9bde-dc46b2c4a738",
   "metadata": {},
   "outputs": [],
   "source": []
  }
 ],
 "metadata": {
  "kernelspec": {
   "display_name": "Python 3 (ipykernel)",
   "language": "python",
   "name": "python3"
  },
  "language_info": {
   "codemirror_mode": {
    "name": "ipython",
    "version": 3
   },
   "file_extension": ".py",
   "mimetype": "text/x-python",
   "name": "python",
   "nbconvert_exporter": "python",
   "pygments_lexer": "ipython3",
   "version": "3.12.7"
  }
 },
 "nbformat": 4,
 "nbformat_minor": 5
}
